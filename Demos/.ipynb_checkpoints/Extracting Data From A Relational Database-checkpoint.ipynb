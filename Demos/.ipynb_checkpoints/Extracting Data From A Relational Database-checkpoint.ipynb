{
 "cells": [
  {
   "cell_type": "markdown",
   "metadata": {},
   "source": [
    "### Extracting Data From A Relational Database"
   ]
  },
  {
   "cell_type": "markdown",
   "metadata": {},
   "source": [
    "#### SQLite Database"
   ]
  },
  {
   "cell_type": "code",
   "execution_count": 16,
   "metadata": {},
   "outputs": [],
   "source": [
    "# import sqlite3 package\n",
    "import sqlite3"
   ]
  },
  {
   "cell_type": "code",
   "execution_count": 17,
   "metadata": {},
   "outputs": [
    {
     "name": "stdout",
     "output_type": "stream",
     "text": [
      "total 32\r\n",
      "drwxr-xr-x  5 tamunotonyefiberesima  staff   160 Oct  5 11:22 \u001b[34m.\u001b[m\u001b[m\r\n",
      "drwxr-xr-x  5 tamunotonyefiberesima  staff   160 Oct  5 10:39 \u001b[34m..\u001b[m\u001b[m\r\n",
      "drwxr-xr-x  3 tamunotonyefiberesima  staff    96 Oct  5 10:29 \u001b[34m.ipynb_checkpoints\u001b[m\u001b[m\r\n",
      "-rw-r--r--  1 tamunotonyefiberesima  staff  4608 Oct  5 11:22 Extracting Data From A Relational Database.ipynb\r\n",
      "-rw-r--r--@ 1 tamunotonyefiberesima  staff  8192 Oct  5 11:19 dsclassroom.db\r\n"
     ]
    }
   ],
   "source": [
    "!ls -la"
   ]
  },
  {
   "cell_type": "code",
   "execution_count": 18,
   "metadata": {},
   "outputs": [],
   "source": [
    "# create a connection to a database or create the database if it's not available\n",
    "connection = sqlite3.connect(\"dsclassroom.db\")\n",
    "connection.close()"
   ]
  },
  {
   "cell_type": "code",
   "execution_count": 19,
   "metadata": {},
   "outputs": [],
   "source": [
    "# Open Connection\n",
    "connection = sqlite3.connect(\"dsclassroom.db\")\n",
    "\n",
    "# Open Cursor\n",
    "cursor = connection.cursor()\n",
    "\n",
    "# Create a query string\n",
    "create_table = \"\"\"\n",
    "                CREATE TABLE dsclassroom(\n",
    "                student_id INTEGER PRIMARY KEY,\n",
    "                name VARCHAR(20),\n",
    "                gender CHAR(1),\n",
    "                algebra_marks INTEGER,\n",
    "                calculus_marks INTEGER,\n",
    "                programming_marks INTEGER\n",
    "                );\"\"\"\n",
    "\n",
    "try:\n",
    "    # Execute query\n",
    "    cursor.execute(create_table)\n",
    "except:\n",
    "    pass\n",
    "\n",
    "#Commit changes\n",
    "connection.commit()\n",
    "\n",
    "# Close connection\n",
    "connection.close()"
   ]
  },
  {
   "cell_type": "markdown",
   "metadata": {},
   "source": [
    "##### Insert Data"
   ]
  },
  {
   "cell_type": "code",
   "execution_count": 21,
   "metadata": {},
   "outputs": [],
   "source": [
    "# Sample data\n",
    "dsclassroom_data = [(1, \"Tonye\", \"F\", 90, 85, 98),\n",
    "                    (2, \"Fiberesima\", \"F\", 73, 65, 50),\n",
    "                    (3, \"Eva\", \"M\", 40, 23, 13),\n",
    "                    (4, \"Jane\", \"F\", 99, 100, 100)]\n",
    "\n",
    "# Open connection\n",
    "connection = sqlite3.connect(\"dsclassroom.db\")\n",
    "\n",
    "# Open cursor\n",
    "cursor = connection.cursor()\n",
    "\n",
    "# Insert each student record\n",
    "for student in dsclassroom_data:\n",
    "    # create query string\n",
    "    insert_statement = \"\"\"\n",
    "                        INSERT INTO dsclassroom \n",
    "                        (student_id, name, gender, algebra_marks, calculus_marks, programming_marks)\n",
    "                        VALUES\n",
    "                        ({0}, \"{1}\", \"{2}\", {3}, {4}, {5});\"\"\".format(student[0], student[1], student[2], \n",
    "                                                                  student[3], student[4], student[5])\n",
    "    try:\n",
    "        # Execute each insert statement\n",
    "        cursor.execute(insert_statement)\n",
    "    except:\n",
    "        pass\n",
    "\n",
    "# Commit changes\n",
    "connection.commit()\n",
    "\n",
    "# Close connection\n",
    "connection.close()\n"
   ]
  },
  {
   "cell_type": "markdown",
   "metadata": {},
   "source": [
    "##### Extract Data"
   ]
  },
  {
   "cell_type": "code",
   "execution_count": 27,
   "metadata": {},
   "outputs": [
    {
     "name": "stdout",
     "output_type": "stream",
     "text": [
      "(1, 'Tonye', 'F', 90, 85, 98)\n",
      "(2, 'Fiberesima', 'F', 73, 65, 50)\n",
      "(3, 'Eva', 'M', 40, 23, 13)\n",
      "(4, 'Jane', 'F', 99, 100, 100)\n"
     ]
    }
   ],
   "source": [
    "# Open connection\n",
    "connection = sqlite3.connect(\"dsclassroom.db\")\n",
    "\n",
    "# Open cursor\n",
    "cursor = connection.cursor()\n",
    "\n",
    "# Query\n",
    "query = \"SELECT * FROM dsclassroom\"\n",
    "\n",
    "# Execute each insert statement\n",
    "cursor.execute(query)\n",
    "\n",
    "# Fetch results\n",
    "results = cursor.fetchall()\n",
    "\n",
    "# Print results\n",
    "for row in results:\n",
    "    print(row)\n",
    "\n",
    "# Close connection\n",
    "connection.close()\n",
    "\n"
   ]
  },
  {
   "cell_type": "markdown",
   "metadata": {},
   "source": [
    "### MySQL Database"
   ]
  },
  {
   "cell_type": "markdown",
   "metadata": {},
   "source": [
    "##### "
   ]
  }
 ],
 "metadata": {
  "kernelspec": {
   "display_name": "Python 3",
   "language": "python",
   "name": "python3"
  },
  "language_info": {
   "codemirror_mode": {
    "name": "ipython",
    "version": 3
   },
   "file_extension": ".py",
   "mimetype": "text/x-python",
   "name": "python",
   "nbconvert_exporter": "python",
   "pygments_lexer": "ipython3",
   "version": "3.7.0"
  }
 },
 "nbformat": 4,
 "nbformat_minor": 2
}
