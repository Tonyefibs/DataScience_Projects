{
 "cells": [
  {
   "cell_type": "markdown",
   "metadata": {},
   "source": [
    "### Extracting Data From A Relational Database"
   ]
  },
  {
   "cell_type": "markdown",
   "metadata": {},
   "source": [
    "#### SQLite Database"
   ]
  },
  {
   "cell_type": "code",
   "execution_count": 16,
   "metadata": {},
   "outputs": [],
   "source": [
    "# import sqlite3 package\n",
    "import sqlite3"
   ]
  },
  {
   "cell_type": "code",
   "execution_count": 17,
   "metadata": {},
   "outputs": [
    {
     "name": "stdout",
     "output_type": "stream",
     "text": [
      "total 32\r\n",
      "drwxr-xr-x  5 tamunotonyefiberesima  staff   160 Oct  5 11:22 \u001b[34m.\u001b[m\u001b[m\r\n",
      "drwxr-xr-x  5 tamunotonyefiberesima  staff   160 Oct  5 10:39 \u001b[34m..\u001b[m\u001b[m\r\n",
      "drwxr-xr-x  3 tamunotonyefiberesima  staff    96 Oct  5 10:29 \u001b[34m.ipynb_checkpoints\u001b[m\u001b[m\r\n",
      "-rw-r--r--  1 tamunotonyefiberesima  staff  4608 Oct  5 11:22 Extracting Data From A Relational Database.ipynb\r\n",
      "-rw-r--r--@ 1 tamunotonyefiberesima  staff  8192 Oct  5 11:19 dsclassroom.db\r\n"
     ]
    }
   ],
   "source": [
    "!ls -la"
   ]
  },
  {
   "cell_type": "code",
   "execution_count": 18,
   "metadata": {},
   "outputs": [],
   "source": [
    "# create a connection to a database or create the database if it's not available\n",
    "connection = sqlite3.connect(\"dsclassroom.db\")\n",
    "connection.close()"
   ]
  },
  {
   "cell_type": "code",
   "execution_count": 19,
   "metadata": {},
   "outputs": [],
   "source": [
    "# Open Connection\n",
    "connection = sqlite3.connect(\"dsclassroom.db\")\n",
    "\n",
    "# Open Cursor\n",
    "cursor = connection.cursor()\n",
    "\n",
    "# Create a query string\n",
    "create_table = \"\"\"\n",
    "                CREATE TABLE dsclassroom(\n",
    "                student_id INTEGER PRIMARY KEY,\n",
    "                name VARCHAR(20),\n",
    "                gender CHAR(1),\n",
    "                algebra_marks INTEGER,\n",
    "                calculus_marks INTEGER,\n",
    "                programming_marks INTEGER\n",
    "                );\"\"\"\n",
    "\n",
    "try:\n",
    "    # Execute query\n",
    "    cursor.execute(create_table)\n",
    "except:\n",
    "    pass\n",
    "\n",
    "#Commit changes\n",
    "connection.commit()\n",
    "\n",
    "# Close connection\n",
    "connection.close()"
   ]
  },
  {
   "cell_type": "markdown",
   "metadata": {},
   "source": [
    "##### Insert Data"
   ]
  },
  {
   "cell_type": "code",
   "execution_count": 21,
   "metadata": {},
   "outputs": [],
   "source": [
    "# Sample data\n",
    "dsclassroom_data = [(1, \"Tonye\", \"F\", 90, 85, 98),\n",
    "                    (2, \"Fiberesima\", \"F\", 73, 65, 50),\n",
    "                    (3, \"Eva\", \"M\", 40, 23, 13),\n",
    "                    (4, \"Jane\", \"F\", 99, 100, 100)]\n",
    "\n",
    "# Open connection\n",
    "connection = sqlite3.connect(\"dsclassroom.db\")\n",
    "\n",
    "# Open cursor\n",
    "cursor = connection.cursor()\n",
    "\n",
    "# Insert each student record\n",
    "for student in dsclassroom_data:\n",
    "    # create query string\n",
    "    insert_statement = \"\"\"\n",
    "                        INSERT INTO dsclassroom \n",
    "                        (student_id, name, gender, algebra_marks, calculus_marks, programming_marks)\n",
    "                        VALUES\n",
    "                        ({0}, \"{1}\", \"{2}\", {3}, {4}, {5});\"\"\".format(student[0], student[1], student[2], \n",
    "                                                                  student[3], student[4], student[5])\n",
    "    try:\n",
    "        # Execute each insert statement\n",
    "        cursor.execute(insert_statement)\n",
    "    except:\n",
    "        pass\n",
    "\n",
    "# Commit changes\n",
    "connection.commit()\n",
    "\n",
    "# Close connection\n",
    "connection.close()\n"
   ]
  },
  {
   "cell_type": "markdown",
   "metadata": {},
   "source": [
    "##### Extract Data"
   ]
  },
  {
   "cell_type": "code",
   "execution_count": 27,
   "metadata": {},
   "outputs": [
    {
     "name": "stdout",
     "output_type": "stream",
     "text": [
      "(1, 'Tonye', 'F', 90, 85, 98)\n",
      "(2, 'Fiberesima', 'F', 73, 65, 50)\n",
      "(3, 'Eva', 'M', 40, 23, 13)\n",
      "(4, 'Jane', 'F', 99, 100, 100)\n"
     ]
    }
   ],
   "source": [
    "# Open connection\n",
    "connection = sqlite3.connect(\"dsclassroom.db\")\n",
    "\n",
    "# Open cursor\n",
    "cursor = connection.cursor()\n",
    "\n",
    "# Query\n",
    "query = \"SELECT * FROM dsclassroom\"\n",
    "\n",
    "# Execute each insert statement\n",
    "cursor.execute(query)\n",
    "\n",
    "# Fetch results\n",
    "results = cursor.fetchall()\n",
    "\n",
    "# Print results\n",
    "for row in results:\n",
    "    print(row)\n",
    "\n",
    "# Close connection\n",
    "connection.close()\n",
    "\n"
   ]
  },
  {
   "cell_type": "markdown",
   "metadata": {},
   "source": [
    "### MySQL Database"
   ]
  },
  {
   "cell_type": "markdown",
   "metadata": {},
   "source": [
    "##### Import package"
   ]
  },
  {
   "cell_type": "code",
   "execution_count": 30,
   "metadata": {},
   "outputs": [],
   "source": [
    "# import package\n",
    "import pymysql"
   ]
  },
  {
   "cell_type": "code",
   "execution_count": 31,
   "metadata": {},
   "outputs": [
    {
     "name": "stdout",
     "output_type": "stream",
     "text": [
      "Connection established\n",
      "Connection closed\n"
     ]
    }
   ],
   "source": [
    "# Connection info\n",
    "config = {\n",
    "    'user': 'eva4good@evatestdb',\n",
    "    'password': 'Ch1bu!k33z3kw3m',\n",
    "    'database': 'classroomDB',\n",
    "    'host': 'evatestdb.mysql.database.azure.com',\n",
    "    'ssl': {'ssl': {'ca': '/var/www/html/BaltimoreCyberTrustRoot.crt.pem'}}\n",
    "}\n",
    "\n",
    "# Connect to database\n",
    "try:\n",
    "    # Opens a connection to database\n",
    "    connection = pymysql.connect(**config)\n",
    "    print(\"Connection established\")\n",
    "    \n",
    "    # Closes connection to database\n",
    "    connection.close()\n",
    "    print(\"Connection closed\")\n",
    "    \n",
    "except pymysql.Error as e:\n",
    "    print(\"Error %d: %s\" % (e.args[0], e.args[1]))"
   ]
  },
  {
   "cell_type": "markdown",
   "metadata": {},
   "source": [
    "##### Crate a table"
   ]
  },
  {
   "cell_type": "code",
   "execution_count": 32,
   "metadata": {},
   "outputs": [
    {
     "name": "stdout",
     "output_type": "stream",
     "text": [
      "Connection established\n"
     ]
    }
   ],
   "source": [
    "try:\n",
    "    # Opens a connection to database\n",
    "    connection = pymysql.connect(**config)\n",
    "    print(\"Connection established\")\n",
    "    \n",
    "    # Open cursor\n",
    "    cursor = connection.cursor()\n",
    "    \n",
    "    create_table = \"\"\"\n",
    "                    CREATE TABLE dsclassroom(\n",
    "                    student_id INTEGER PRIMARY KEY,\n",
    "                    name VARCHAR(20),\n",
    "                    gender CHAR(1),\n",
    "                    algebra_marks INTEGER,\n",
    "                    calculus_marks INTEGER,\n",
    "                    programming_marks INTEGER);\"\"\"\n",
    "    \n",
    "    try:\n",
    "        # Execute query\n",
    "        cursor.execute(create_table)\n",
    "\n",
    "        # Commit changes\n",
    "        connection.commit()\n",
    "\n",
    "        # Close connection\n",
    "        connection.close()\n",
    "        \n",
    "    except pymsql.Error as e:\n",
    "        print(\"Error %d: %s\" % (e.args[0], e.args[1]))\n",
    "\n",
    "except pymysql.Error as e:\n",
    "        print(\"Error %d: %s\" % (e.args[0], e.args[1]))     "
   ]
  },
  {
   "cell_type": "markdown",
   "metadata": {},
   "source": [
    "#####  Insert Data"
   ]
  },
  {
   "cell_type": "code",
   "execution_count": 37,
   "metadata": {},
   "outputs": [
    {
     "name": "stdout",
     "output_type": "stream",
     "text": [
      "Connection established\n",
      "Error 1062: Duplicate entry '1' for key 'PRIMARY'\n",
      "Error 1062: Duplicate entry '2' for key 'PRIMARY'\n",
      "Error 1062: Duplicate entry '3' for key 'PRIMARY'\n",
      "Error 1062: Duplicate entry '4' for key 'PRIMARY'\n"
     ]
    }
   ],
   "source": [
    "# Sample data\n",
    "dsclassroom_data = [(1, \"Tonye\", \"F\", 90, 85, 98),\n",
    "                    (2, \"Fiberesima\", \"F\", 73, 65, 50),\n",
    "                    (3, \"Eva\", \"M\", 40, 23, 13),\n",
    "                    (4, \"Jane\", \"F\", 99, 100, 100)]\n",
    "\n",
    "# Open connection\n",
    "try:\n",
    "    connection = pymysql.connect(**config)\n",
    "    print(\"Connection established\")\n",
    "\n",
    "    # Open cursor\n",
    "    cursor = connection.cursor()\n",
    "\n",
    "    # Insert each student record\n",
    "    for student in dsclassroom_data:\n",
    "        # create query string\n",
    "        insert_statement = \"\"\"\n",
    "                            INSERT INTO dsclassroom \n",
    "                            (student_id, name, gender, algebra_marks, calculus_marks, programming_marks)\n",
    "                            VALUES\n",
    "                            ({0}, \"{1}\", \"{2}\", {3}, {4}, {5});\"\"\".format(student[0], student[1], student[2], \n",
    "                                                                  student[3], student[4], student[5])\n",
    "        try:\n",
    "            # Execute each insert statement\n",
    "            cursor.execute(insert_statement)\n",
    "\n",
    "            # Commit changes\n",
    "            connection.commit()\n",
    "            print(\"Record inserted\")\n",
    "        \n",
    "        except pymysql.Error as e:\n",
    "            print(\"Error %d: %s\" % (e.args[0], e.args[1]))     \n",
    "\n",
    "    # Close connection\n",
    "    connection.close()\n",
    "\n",
    "except pymysql.Error as e:\n",
    "    print(\"Error %d: %s\" % (e.args[0], e.args[1]))     "
   ]
  },
  {
   "cell_type": "markdown",
   "metadata": {},
   "source": [
    "##### Extract data from database"
   ]
  },
  {
   "cell_type": "code",
   "execution_count": 38,
   "metadata": {},
   "outputs": [
    {
     "name": "stdout",
     "output_type": "stream",
     "text": [
      "Connection established\n",
      "(1, 'Tonye', 'F', 90, 85, 98)\n",
      "(2, 'Fiberesima', 'F', 73, 65, 50)\n",
      "(3, 'Eva', 'M', 40, 23, 13)\n",
      "(4, 'Jane', 'F', 99, 100, 100)\n"
     ]
    }
   ],
   "source": [
    "# Open connection to database\n",
    "try:\n",
    "    connection = pymysql.connect(**config)\n",
    "    print(\"Connection established\")\n",
    "\n",
    "    # Open cursor\n",
    "    cursor = connection.cursor()\n",
    "\n",
    "    # Query\n",
    "    query =\"SELECT * FROM dsclassroom\"\n",
    "    \n",
    "    # Execute query\n",
    "    try:\n",
    "        cursor.execute(query)\n",
    "        \n",
    "        # Fetch results\n",
    "        result = cursor.fetchall()\n",
    "        \n",
    "        # Print results\n",
    "        for row in result:\n",
    "            print(row)\n",
    "            \n",
    "        # Close Connection\n",
    "        connection.close()\n",
    "        \n",
    "    except pymysql.Error as e:\n",
    "        print(\"Error %d: %s\" % (e.args[0], e.args[1])) \n",
    "        \n",
    "except pymysql.Error as e:\n",
    "    print(\"Error %d: %s\" % (e.args[0], e.args[1]))           "
   ]
  },
  {
   "cell_type": "markdown",
   "metadata": {},
   "source": [
    "### Microsoft SQL Server Database"
   ]
  },
  {
   "cell_type": "markdown",
   "metadata": {},
   "source": [
    "##### Import Package"
   ]
  },
  {
   "cell_type": "code",
   "execution_count": 39,
   "metadata": {},
   "outputs": [],
   "source": [
    "import pymssql\n",
    "import _mssql"
   ]
  },
  {
   "cell_type": "code",
   "execution_count": 41,
   "metadata": {},
   "outputs": [
    {
     "name": "stdout",
     "output_type": "stream",
     "text": [
      "Connection Established\n",
      "Connection Closed\n"
     ]
    }
   ],
   "source": [
    "cnx = {\n",
    "    'host': 'mltest1.database.windows.net:1433',\n",
    "    'username': 'eva4good@mltest1',\n",
    "    'password': 'Ch1bu!k33z3kw3m',\n",
    "    'db': 'evatest_sqldb'\n",
    "}\n",
    "\n",
    "try:\n",
    "    conn = pymssql.connect(cnx['host'], cnx['username'], cnx['password'], cnx['db'])\n",
    "    print(\"Connection Established\")\n",
    "    conn.close()\n",
    "    print(\"Connection Closed\")\n",
    "except:\n",
    "    raise\n",
    "finally:\n",
    "    conn.close()"
   ]
  },
  {
   "cell_type": "markdown",
   "metadata": {},
   "source": [
    "###### Create table"
   ]
  },
  {
   "cell_type": "code",
   "execution_count": 50,
   "metadata": {},
   "outputs": [
    {
     "name": "stdout",
     "output_type": "stream",
     "text": [
      "Connection Established\n",
      "Error 2714: b\"There is already an object named 'dsclassroom' in the database.DB-Lib error message 20018, severity 16:\\nGeneral SQL Server error: Check messages from the SQL Server\\n\"\n"
     ]
    }
   ],
   "source": [
    "# Open connection to database\n",
    "try:\n",
    "    connection = pymssql.connect(cnx['host'], cnx['username'], cnx['password'], cnx['db'])\n",
    "    print(\"Connection Established\")\n",
    "    \n",
    "    # Open cursor\n",
    "    cursor = connection.cursor()\n",
    "    \n",
    "    create_table = \"\"\"\n",
    "                    CREATE TABLE dsclassroom(\n",
    "                    student_id INTEGER PRIMARY KEY,\n",
    "                    name VARCHAR(20),\n",
    "                    gender CHAR(1),\n",
    "                    algebra_marks INTEGER,\n",
    "                    calculus_marks INTEGER,\n",
    "                    programming_marks INTEGER);\"\"\"\n",
    "    \n",
    "    # Execute query\n",
    "    try:\n",
    "        cursor.execute(create_table)\n",
    "        \n",
    "        # Commit changes\n",
    "        connection.commit()\n",
    "        print(\"Table created\")\n",
    "        \n",
    "        # Close connection\n",
    "        connection.close\n",
    "        \n",
    "    except _mssql.MssqlDatabaseException as e:\n",
    "        if e.number == 2714:\n",
    "            #table already existed, so silence the error\n",
    "            #print(\"Error %d: %s\" %(e[0], e[1]))\n",
    "            pass\n",
    "        else:\n",
    "            raise # re-raise real error\n",
    "    finally:\n",
    "        connection.close()\n",
    "        \n",
    "except pymssql.Error as e:\n",
    "    print(\"Error %d: %s\" %(e.args[0], e.args[1]))\n",
    "    pass"
   ]
  },
  {
   "cell_type": "markdown",
   "metadata": {},
   "source": [
    "#####  Insert query"
   ]
  },
  {
   "cell_type": "code",
   "execution_count": 55,
   "metadata": {},
   "outputs": [
    {
     "name": "stdout",
     "output_type": "stream",
     "text": [
      "Connection Established\n",
      "Record inserted\n",
      "Record inserted\n",
      "Record inserted\n",
      "Record inserted\n"
     ]
    }
   ],
   "source": [
    "# Sample data\n",
    "dsclassroom_data = [(1, \"Tonye\", \"F\", 90, 85, 98),\n",
    "                    (2, \"Fiberesima\", \"F\", 73, 65, 50),\n",
    "                    (3, \"Eva\", \"M\", 40, 23, 13),\n",
    "                    (4, \"Jane\", \"F\", 99, 100, 100)]\n",
    "\n",
    "# Open connection to database\n",
    "\n",
    "try:\n",
    "    connection = pymssql.connect(cnx['host'], cnx['username'], cnx['password'], cnx['db'])\n",
    "    print(\"Connection Established\")\n",
    "    \n",
    "    # Open cursor\n",
    "    cursor = connection.cursor()\n",
    "    \n",
    "    # Insert each student record\n",
    "    for student in dsclassroom_data:\n",
    "        # create query string\n",
    "        insert_statement = \"\"\"\n",
    "                            INSERT INTO dsclassroom \n",
    "                            (student_id, name, gender, algebra_marks, calculus_marks, programming_marks)\n",
    "                            VALUES\n",
    "                            ({0}, '{1}', '{2}', {3}, {4}, {5});\"\"\".format(student[0], student[1], student[2], \n",
    "                                                                  student[3], student[4], student[5])\n",
    "        try:\n",
    "            # Execute each insert statement\n",
    "            cursor.execute(insert_statement)\n",
    "\n",
    "            # Commit changes\n",
    "            connection.commit()\n",
    "            print(\"Record inserted\")\n",
    "        \n",
    "        except pymssql.Error as e:\n",
    "            print(\"Error %d: %s\" % (e.args[0], e.args[1]))     \n",
    "\n",
    "    # Close connection\n",
    "    connection.close()\n",
    "\n",
    "except pymssql.Error as e:\n",
    "    print(\"Error %d: %s\" % (e.args[0], e.args[1]))     "
   ]
  },
  {
   "cell_type": "markdown",
   "metadata": {},
   "source": [
    "##### Extract Data"
   ]
  },
  {
   "cell_type": "code",
   "execution_count": 56,
   "metadata": {},
   "outputs": [
    {
     "name": "stdout",
     "output_type": "stream",
     "text": [
      "Connection Established\n",
      "(1, 'Tonye', 'F', 90, 85, 98)\n",
      "(2, 'Fiberesima', 'F', 73, 65, 50)\n",
      "(3, 'Eva', 'M', 40, 23, 13)\n",
      "(4, 'Jane', 'F', 99, 100, 100)\n",
      "(5, 'Fiberesima', 'F', 87, 69, 93)\n",
      "(6, 'Eva', 'M', 65, 83, 90)\n",
      "(7, 'Jane', 'F', 83, 76, 89)\n",
      "(8, 'Tonye', 'M', 70, 84, 92)\n",
      "(9, 'Fiberesima', 'F', 87, 69, 93)\n",
      "(10, 'Eva', 'M', 65, 83, 90)\n",
      "(11, 'Jane', 'F', 83, 76, 89)\n"
     ]
    }
   ],
   "source": [
    "# Open connection to database\n",
    "try:\n",
    "    connection = pymssql.connect(cnx['host'], cnx['username'], cnx['password'], cnx['db'])\n",
    "    print(\"Connection Established\")\n",
    "    \n",
    "    # Open cursor\n",
    "    cursor = connection.cursor()\n",
    "\n",
    "    # Query\n",
    "    query =\"SELECT * FROM dsclassroom\"\n",
    "    \n",
    "    # Execute query\n",
    "    try:\n",
    "        cursor.execute(query)\n",
    "        \n",
    "        # Fetch results\n",
    "        result = cursor.fetchall()\n",
    "        \n",
    "        # Print results\n",
    "        for row in result:\n",
    "            print(row)\n",
    "            \n",
    "        # Close Connection\n",
    "        connection.close()\n",
    "        \n",
    "    except pymssql.Error as e:\n",
    "        print(\"Error %d: %s\" % (e.args[0], e.args[1])) \n",
    "        \n",
    "except pymssql.Error as e:\n",
    "    print(\"Error %d: %s\" % (e.args[0], e.args[1]))     "
   ]
  },
  {
   "cell_type": "code",
   "execution_count": null,
   "metadata": {},
   "outputs": [],
   "source": []
  }
 ],
 "metadata": {
  "kernelspec": {
   "display_name": "Python 3",
   "language": "python",
   "name": "python3"
  },
  "language_info": {
   "codemirror_mode": {
    "name": "ipython",
    "version": 3
   },
   "file_extension": ".py",
   "mimetype": "text/x-python",
   "name": "python",
   "nbconvert_exporter": "python",
   "pygments_lexer": "ipython3",
   "version": "3.7.0"
  }
 },
 "nbformat": 4,
 "nbformat_minor": 2
}
