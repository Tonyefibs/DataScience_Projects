{
 "cells": [
  {
   "cell_type": "markdown",
   "metadata": {},
   "source": [
    "# Magic Functions "
   ]
  },
  {
   "cell_type": "markdown",
   "metadata": {},
   "source": [
    "#### Matplotlib Magic Function"
   ]
  },
  {
   "cell_type": "code",
   "execution_count": 1,
   "metadata": {},
   "outputs": [],
   "source": [
    "## %matplotlib inline"
   ]
  },
  {
   "cell_type": "code",
   "execution_count": 2,
   "metadata": {},
   "outputs": [
    {
     "data": {
      "text/plain": [
       "[<matplotlib.lines.Line2D at 0x1d870488e80>]"
      ]
     },
     "execution_count": 2,
     "metadata": {},
     "output_type": "execute_result"
    }
   ],
   "source": [
    "import matplotlib.pyplot as plt\n",
    "plt.plot(range(100))"
   ]
  },
  {
   "cell_type": "markdown",
   "metadata": {},
   "source": [
    "#### Magic Function: Time"
   ]
  },
  {
   "cell_type": "code",
   "execution_count": 3,
   "metadata": {},
   "outputs": [
    {
     "name": "stdout",
     "output_type": "stream",
     "text": [
      "Wall time: 228 ms\n"
     ]
    }
   ],
   "source": [
    "%time import pandas as pd"
   ]
  },
  {
   "cell_type": "markdown",
   "metadata": {},
   "source": [
    "#### Magic Function: timeit"
   ]
  },
  {
   "cell_type": "code",
   "execution_count": 4,
   "metadata": {},
   "outputs": [
    {
     "name": "stdout",
     "output_type": "stream",
     "text": [
      "280 µs ± 5.74 µs per loop (mean ± std. dev. of 7 runs, 1000 loops each)\n"
     ]
    }
   ],
   "source": [
    "%%timeit x = range(10000)\n",
    "max(x)"
   ]
  },
  {
   "cell_type": "markdown",
   "metadata": {},
   "source": [
    "#### Magic Function: writefile"
   ]
  },
  {
   "cell_type": "code",
   "execution_count": 5,
   "metadata": {},
   "outputs": [
    {
     "name": "stdout",
     "output_type": "stream",
     "text": [
      "Writing test.txt\n"
     ]
    }
   ],
   "source": [
    "%%writefile test.txt\n",
    "Tonye is a hungry girl that\n",
    "Drinks in class. \n",
    "Signed:\n",
    "    Tonye"
   ]
  },
  {
   "cell_type": "markdown",
   "metadata": {},
   "source": [
    "#### Magic Functions: ls"
   ]
  },
  {
   "cell_type": "code",
   "execution_count": 26,
   "metadata": {},
   "outputs": [
    {
     "name": "stdout",
     "output_type": "stream",
     "text": [
      " Volume in drive C has no label.\n",
      " Volume Serial Number is 00E6-9526\n",
      "\n",
      " Directory of C:\\Users\\Eva\\DataScience_Projects\n",
      "\n",
      "04-Oct-18  11:27 AM    <DIR>          .\n",
      "04-Oct-18  11:27 AM    <DIR>          ..\n",
      "04-Oct-18  10:26 AM    <DIR>          .ipynb_checkpoints\n",
      "04-Oct-18  11:27 AM            17,059 Magic Functions.ipynb\n",
      "04-Oct-18  10:22 AM             4,573 Test Notebook.ipynb\n",
      "04-Oct-18  10:43 AM                66 test.txt\n",
      "25-Jun-18  04:45 AM    <DIR>          titanic\n",
      "               3 File(s)         21,698 bytes\n",
      "               4 Dir(s)  87,369,760,768 bytes free\n"
     ]
    }
   ],
   "source": [
    "ls"
   ]
  },
  {
   "cell_type": "markdown",
   "metadata": {},
   "source": [
    "#### Magic Function: HTML"
   ]
  },
  {
   "cell_type": "code",
   "execution_count": 11,
   "metadata": {},
   "outputs": [
    {
     "data": {
      "text/html": [
       "<i>This is a sample HTML demo </i>\n",
       "<img src=\"https://www.freddiesflowers.com/build/images/homepage/first_frame.jpg\"></img>\n",
       "\n",
       "<iframe width=\"992\" height=\"558\" src=\"https://www.youtube.com/embed/72FDjMSS-xo\" frameborder=\"0\" allow=\"autoplay; encrypted-media\" allowfullscreen></iframe>"
      ],
      "text/plain": [
       "<IPython.core.display.HTML object>"
      ]
     },
     "metadata": {},
     "output_type": "display_data"
    }
   ],
   "source": [
    "%%HTML\n",
    "<i>This is a sample HTML demo </i>\n",
    "<img src=\"https://www.freddiesflowers.com/build/images/homepage/first_frame.jpg\"></img>\n",
    "<iframe width=\"992\" height=\"558\" src=\"https://www.youtube.com/embed/72FDjMSS-xo\" frameborder=\"0\" allow=\"autoplay; encrypted-media\" allowfullscreen></iframe>"
   ]
  },
  {
   "cell_type": "markdown",
   "metadata": {},
   "source": [
    "#### Magic function: Latex"
   ]
  },
  {
   "cell_type": "code",
   "execution_count": 12,
   "metadata": {},
   "outputs": [
    {
     "data": {
      "text/latex": [
       "\\begin{align}\n",
       "Gradient : \\nabla J = - 2H^T (Y - HW)\n",
       "\\end{align}"
      ],
      "text/plain": [
       "<IPython.core.display.Latex object>"
      ]
     },
     "metadata": {},
     "output_type": "display_data"
    }
   ],
   "source": [
    "%%latex\n",
    "\\begin{align}\n",
    "Gradient : \\nabla J = - 2H^T (Y - HW)\n",
    "\\end{align}"
   ]
  },
  {
   "cell_type": "markdown",
   "metadata": {},
   "source": [
    "#### Magic Function: load_ext"
   ]
  },
  {
   "cell_type": "code",
   "execution_count": null,
   "metadata": {},
   "outputs": [],
   "source": [
    "!pip install ipython-sql"
   ]
  },
  {
   "cell_type": "code",
   "execution_count": 14,
   "metadata": {},
   "outputs": [
    {
     "data": {
      "text/plain": [
       "['Requirement already satisfied: ipython-sql in c:\\\\programdata\\\\anaconda3\\\\lib\\\\site-packages (0.3.9)',\n",
       " 'Requirement already satisfied: sqlalchemy>=0.6.7 in c:\\\\programdata\\\\anaconda3\\\\lib\\\\site-packages (from ipython-sql) (1.2.12)',\n",
       " 'Requirement already satisfied: sqlparse in c:\\\\programdata\\\\anaconda3\\\\lib\\\\site-packages (from ipython-sql) (0.2.4)',\n",
       " 'Requirement already satisfied: ipython>=1.0 in c:\\\\programdata\\\\anaconda3\\\\lib\\\\site-packages (from ipython-sql) (6.5.0)',\n",
       " 'Requirement already satisfied: ipython-genutils>=0.1.0 in c:\\\\programdata\\\\anaconda3\\\\lib\\\\site-packages (from ipython-sql) (0.2.0)',\n",
       " 'Requirement already satisfied: six in c:\\\\programdata\\\\anaconda3\\\\lib\\\\site-packages (from ipython-sql) (1.11.0)',\n",
       " 'Requirement already satisfied: prettytable in c:\\\\programdata\\\\anaconda3\\\\lib\\\\site-packages (from ipython-sql) (0.7.2)',\n",
       " 'Requirement already satisfied: setuptools>=18.5 in c:\\\\programdata\\\\anaconda3\\\\lib\\\\site-packages (from ipython>=1.0->ipython-sql) (40.4.0)',\n",
       " 'Requirement already satisfied: decorator in c:\\\\programdata\\\\anaconda3\\\\lib\\\\site-packages (from ipython>=1.0->ipython-sql) (4.3.0)',\n",
       " 'Requirement already satisfied: prompt-toolkit<2.0.0,>=1.0.15 in c:\\\\programdata\\\\anaconda3\\\\lib\\\\site-packages (from ipython>=1.0->ipython-sql) (1.0.15)',\n",
       " 'Requirement already satisfied: colorama; sys_platform == \"win32\" in c:\\\\programdata\\\\anaconda3\\\\lib\\\\site-packages (from ipython>=1.0->ipython-sql) (0.3.9)',\n",
       " 'Requirement already satisfied: pickleshare in c:\\\\programdata\\\\anaconda3\\\\lib\\\\site-packages (from ipython>=1.0->ipython-sql) (0.7.5)',\n",
       " 'Requirement already satisfied: backcall in c:\\\\programdata\\\\anaconda3\\\\lib\\\\site-packages (from ipython>=1.0->ipython-sql) (0.1.0)',\n",
       " 'Requirement already satisfied: jedi>=0.10 in c:\\\\programdata\\\\anaconda3\\\\lib\\\\site-packages (from ipython>=1.0->ipython-sql) (0.12.1)',\n",
       " 'Requirement already satisfied: traitlets>=4.2 in c:\\\\programdata\\\\anaconda3\\\\lib\\\\site-packages (from ipython>=1.0->ipython-sql) (4.3.2)',\n",
       " 'Requirement already satisfied: pygments in c:\\\\programdata\\\\anaconda3\\\\lib\\\\site-packages (from ipython>=1.0->ipython-sql) (2.2.0)',\n",
       " 'Requirement already satisfied: simplegeneric>0.8 in c:\\\\programdata\\\\anaconda3\\\\lib\\\\site-packages (from ipython>=1.0->ipython-sql) (0.8.1)',\n",
       " 'Requirement already satisfied: wcwidth in c:\\\\programdata\\\\anaconda3\\\\lib\\\\site-packages (from prompt-toolkit<2.0.0,>=1.0.15->ipython>=1.0->ipython-sql) (0.1.7)',\n",
       " 'Requirement already satisfied: parso>=0.3.0 in c:\\\\programdata\\\\anaconda3\\\\lib\\\\site-packages (from jedi>=0.10->ipython>=1.0->ipython-sql) (0.3.1)']"
      ]
     },
     "execution_count": 14,
     "metadata": {},
     "output_type": "execute_result"
    }
   ],
   "source": [
    "%%!\n",
    "pip install ipython-sql\n"
   ]
  },
  {
   "cell_type": "code",
   "execution_count": 15,
   "metadata": {},
   "outputs": [],
   "source": [
    "%load_ext sql"
   ]
  },
  {
   "cell_type": "code",
   "execution_count": 16,
   "metadata": {},
   "outputs": [
    {
     "data": {
      "text/plain": [
       "'Connected: @None'"
      ]
     },
     "execution_count": 16,
     "metadata": {},
     "output_type": "execute_result"
    }
   ],
   "source": [
    "%sql sqlite://"
   ]
  },
  {
   "cell_type": "code",
   "execution_count": 17,
   "metadata": {},
   "outputs": [
    {
     "name": "stdout",
     "output_type": "stream",
     "text": [
      " * sqlite://\n",
      "Done.\n",
      "1 rows affected.\n",
      "1 rows affected.\n"
     ]
    },
    {
     "data": {
      "text/plain": [
       "[]"
      ]
     },
     "execution_count": 17,
     "metadata": {},
     "output_type": "execute_result"
    }
   ],
   "source": [
    "%%sql\n",
    "CREATE TABLE dsclassroom(name,age, totalmarks);\n",
    "INSERT INTO dsclassroom VALUES ('Tonye', 100, 80);\n",
    "INSERT INTO dsclassroom VALUES ('Jane', 16, 70);"
   ]
  },
  {
   "cell_type": "code",
   "execution_count": 18,
   "metadata": {},
   "outputs": [
    {
     "name": "stdout",
     "output_type": "stream",
     "text": [
      " * sqlite://\n",
      "Done.\n"
     ]
    },
    {
     "data": {
      "text/html": [
       "<table>\n",
       "    <tr>\n",
       "        <th>name</th>\n",
       "        <th>age</th>\n",
       "        <th>totalmarks</th>\n",
       "    </tr>\n",
       "    <tr>\n",
       "        <td>Tonye</td>\n",
       "        <td>100</td>\n",
       "        <td>80</td>\n",
       "    </tr>\n",
       "    <tr>\n",
       "        <td>Jane</td>\n",
       "        <td>16</td>\n",
       "        <td>70</td>\n",
       "    </tr>\n",
       "</table>"
      ],
      "text/plain": [
       "[('Tonye', 100, 80), ('Jane', 16, 70)]"
      ]
     },
     "execution_count": 18,
     "metadata": {},
     "output_type": "execute_result"
    }
   ],
   "source": [
    "%sql SELECT * from dsclassroom;"
   ]
  },
  {
   "cell_type": "markdown",
   "metadata": {},
   "source": [
    "#### Magic function: lsmagic"
   ]
  },
  {
   "cell_type": "code",
   "execution_count": 19,
   "metadata": {},
   "outputs": [
    {
     "data": {
      "application/json": {
       "cell": {
        "!": "OSMagics",
        "HTML": "Other",
        "SVG": "Other",
        "bash": "Other",
        "capture": "ExecutionMagics",
        "cmd": "Other",
        "debug": "ExecutionMagics",
        "file": "Other",
        "html": "DisplayMagics",
        "javascript": "DisplayMagics",
        "js": "DisplayMagics",
        "latex": "DisplayMagics",
        "markdown": "DisplayMagics",
        "perl": "Other",
        "prun": "ExecutionMagics",
        "pypy": "Other",
        "python": "Other",
        "python2": "Other",
        "python3": "Other",
        "ruby": "Other",
        "script": "ScriptMagics",
        "sh": "Other",
        "sql": "SqlMagic",
        "svg": "DisplayMagics",
        "sx": "OSMagics",
        "system": "OSMagics",
        "time": "ExecutionMagics",
        "timeit": "ExecutionMagics",
        "writefile": "OSMagics"
       },
       "line": {
        "alias": "OSMagics",
        "alias_magic": "BasicMagics",
        "autocall": "AutoMagics",
        "automagic": "AutoMagics",
        "autosave": "KernelMagics",
        "bookmark": "OSMagics",
        "cd": "OSMagics",
        "clear": "KernelMagics",
        "cls": "KernelMagics",
        "colors": "BasicMagics",
        "config": "ConfigMagics",
        "connect_info": "KernelMagics",
        "copy": "Other",
        "ddir": "Other",
        "debug": "ExecutionMagics",
        "dhist": "OSMagics",
        "dirs": "OSMagics",
        "doctest_mode": "BasicMagics",
        "echo": "Other",
        "ed": "Other",
        "edit": "KernelMagics",
        "env": "OSMagics",
        "gui": "BasicMagics",
        "hist": "Other",
        "history": "HistoryMagics",
        "killbgscripts": "ScriptMagics",
        "ldir": "Other",
        "less": "KernelMagics",
        "load": "CodeMagics",
        "load_ext": "ExtensionMagics",
        "loadpy": "CodeMagics",
        "logoff": "LoggingMagics",
        "logon": "LoggingMagics",
        "logstart": "LoggingMagics",
        "logstate": "LoggingMagics",
        "logstop": "LoggingMagics",
        "ls": "Other",
        "lsmagic": "BasicMagics",
        "macro": "ExecutionMagics",
        "magic": "BasicMagics",
        "matplotlib": "PylabMagics",
        "mkdir": "Other",
        "more": "KernelMagics",
        "notebook": "BasicMagics",
        "page": "BasicMagics",
        "pastebin": "CodeMagics",
        "pdb": "ExecutionMagics",
        "pdef": "NamespaceMagics",
        "pdoc": "NamespaceMagics",
        "pfile": "NamespaceMagics",
        "pinfo": "NamespaceMagics",
        "pinfo2": "NamespaceMagics",
        "pip": "BasicMagics",
        "popd": "OSMagics",
        "pprint": "BasicMagics",
        "precision": "BasicMagics",
        "profile": "BasicMagics",
        "prun": "ExecutionMagics",
        "psearch": "NamespaceMagics",
        "psource": "NamespaceMagics",
        "pushd": "OSMagics",
        "pwd": "OSMagics",
        "pycat": "OSMagics",
        "pylab": "PylabMagics",
        "qtconsole": "KernelMagics",
        "quickref": "BasicMagics",
        "recall": "HistoryMagics",
        "rehashx": "OSMagics",
        "reload_ext": "ExtensionMagics",
        "ren": "Other",
        "rep": "Other",
        "rerun": "HistoryMagics",
        "reset": "NamespaceMagics",
        "reset_selective": "NamespaceMagics",
        "rmdir": "Other",
        "run": "ExecutionMagics",
        "save": "CodeMagics",
        "sc": "OSMagics",
        "set_env": "OSMagics",
        "sql": "SqlMagic",
        "store": "StoreMagics",
        "sx": "OSMagics",
        "system": "OSMagics",
        "tb": "ExecutionMagics",
        "time": "ExecutionMagics",
        "timeit": "ExecutionMagics",
        "unalias": "OSMagics",
        "unload_ext": "ExtensionMagics",
        "who": "NamespaceMagics",
        "who_ls": "NamespaceMagics",
        "whos": "NamespaceMagics",
        "xdel": "NamespaceMagics",
        "xmode": "BasicMagics"
       }
      },
      "text/plain": [
       "Available line magics:\n",
       "%alias  %alias_magic  %autocall  %automagic  %autosave  %bookmark  %cd  %clear  %cls  %colors  %config  %connect_info  %copy  %ddir  %debug  %dhist  %dirs  %doctest_mode  %echo  %ed  %edit  %env  %gui  %hist  %history  %killbgscripts  %ldir  %less  %load  %load_ext  %loadpy  %logoff  %logon  %logstart  %logstate  %logstop  %ls  %lsmagic  %macro  %magic  %matplotlib  %mkdir  %more  %notebook  %page  %pastebin  %pdb  %pdef  %pdoc  %pfile  %pinfo  %pinfo2  %popd  %pprint  %precision  %profile  %prun  %psearch  %psource  %pushd  %pwd  %pycat  %pylab  %qtconsole  %quickref  %recall  %rehashx  %reload_ext  %ren  %rep  %rerun  %reset  %reset_selective  %rmdir  %run  %save  %sc  %set_env  %sql  %store  %sx  %system  %tb  %time  %timeit  %unalias  %unload_ext  %who  %who_ls  %whos  %xdel  %xmode\n",
       "\n",
       "Available cell magics:\n",
       "%%!  %%HTML  %%SVG  %%bash  %%capture  %%cmd  %%debug  %%file  %%html  %%javascript  %%js  %%latex  %%markdown  %%perl  %%prun  %%pypy  %%python  %%python2  %%python3  %%ruby  %%script  %%sh  %%sql  %%svg  %%sx  %%system  %%time  %%timeit  %%writefile\n",
       "\n",
       "Automagic is ON, % prefix IS NOT needed for line magics."
      ]
     },
     "execution_count": 19,
     "metadata": {},
     "output_type": "execute_result"
    }
   ],
   "source": [
    "%lsmagic"
   ]
  },
  {
   "cell_type": "markdown",
   "metadata": {},
   "source": [
    "#### Assignment\n",
    "Do a demo of 5 in line magics and 5 cell magics"
   ]
  },
  {
   "cell_type": "code",
   "execution_count": 21,
   "metadata": {},
   "outputs": [],
   "source": [
    "?"
   ]
  },
  {
   "cell_type": "code",
   "execution_count": 25,
   "metadata": {},
   "outputs": [],
   "source": [
    "quickref"
   ]
  },
  {
   "cell_type": "code",
   "execution_count": null,
   "metadata": {},
   "outputs": [],
   "source": []
  }
 ],
 "metadata": {
  "kernelspec": {
   "display_name": "Python 3",
   "language": "python",
   "name": "python3"
  },
  "language_info": {
   "codemirror_mode": {
    "name": "ipython",
    "version": 3
   },
   "file_extension": ".py",
   "mimetype": "text/x-python",
   "name": "python",
   "nbconvert_exporter": "python",
   "pygments_lexer": "ipython3",
   "version": "3.6.6"
  }
 },
 "nbformat": 4,
 "nbformat_minor": 2
}
