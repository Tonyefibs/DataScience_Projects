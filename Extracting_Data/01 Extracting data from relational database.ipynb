{
 "cells": [
  {
   "cell_type": "markdown",
   "metadata": {},
   "source": [
    "## Extracting data from relational databases"
   ]
  },
  {
   "cell_type": "markdown",
   "metadata": {},
   "source": [
    "### SQLite Database"
   ]
  },
  {
   "cell_type": "markdown",
   "metadata": {},
   "source": [
    "#### import package"
   ]
  },
  {
   "cell_type": "code",
   "execution_count": 41,
   "metadata": {},
   "outputs": [],
   "source": [
    "# import sqlite3 package\n",
    "import sqlite3"
   ]
  },
  {
   "cell_type": "markdown",
   "metadata": {},
   "source": [
    "#### connect to database"
   ]
  },
  {
   "cell_type": "code",
   "execution_count": 42,
   "metadata": {},
   "outputs": [],
   "source": [
    "# create a connection to a database : create the database if not available\n",
    "connection = sqlite3.connect(\"classroomDB.db\")\n",
    "connection.close()"
   ]
  },
  {
   "cell_type": "markdown",
   "metadata": {},
   "source": [
    "#### create table"
   ]
  },
  {
   "cell_type": "code",
   "execution_count": 43,
   "metadata": {},
   "outputs": [],
   "source": [
    "# open connection\n",
    "connection = sqlite3.connect(\"classroomDB.db\")\n",
    "# open cursor\n",
    "cursor = connection.cursor()\n",
    "# query for creating table\n",
    "create_table = \"\"\"\n",
    "                CREATE TABLE classroom ( \n",
    "                student_id INTEGER PRIMARY KEY, \n",
    "                name VARCHAR(20), \n",
    "                gender CHAR(1), \n",
    "                physics_marks INTEGER,\n",
    "                chemistry_marks INTEGER,\n",
    "                mathematics_marks INTEGER\n",
    "              );\"\"\"\n",
    "# execute query\n",
    "cursor.execute(create_table)\n",
    "# commit changes\n",
    "connection.commit()\n",
    "# close connection\n",
    "connection.close()"
   ]
  },
  {
   "cell_type": "markdown",
   "metadata": {},
   "source": [
    "#### insert data"
   ]
  },
  {
   "cell_type": "code",
   "execution_count": 44,
   "metadata": {},
   "outputs": [],
   "source": [
    "# sample data\n",
    "classroom_data = [( 1, \"Raj\",\"M\", 70, 84, 92),\n",
    "                  ( 2, \"Poonam\",\"F\", 87, 69, 93),\n",
    "                  ( 3, \"Nik\",\"M\", 65, 83, 90),\n",
    "                  ( 4, \"Rahul\",\"F\", 83, 76, 89)]\n",
    "# open connection\n",
    "connection = sqlite3.connect(\"classroomDB.db\")\n",
    "# open cursor\n",
    "cursor = connection.cursor()\n",
    "# insert each student record\n",
    "for student in classroom_data:\n",
    "    # formatted query string\n",
    "    insert_statement = \"\"\"INSERT INTO classroom \n",
    "                      (student_id, name, gender, physics_marks, chemistry_marks, mathematics_marks)\n",
    "                      VALUES \n",
    "                      ({0}, \"{1}\", \"{2}\", {3}, {4}, {5});\"\"\".format(student[0], student[1], student[2], \n",
    "                                                              student[3],student[4], student[5])\n",
    "    # execute insert query\n",
    "    cursor.execute(insert_statement)\n",
    "\n",
    "# commit the changes\n",
    "connection.commit()\n",
    "# close the connection\n",
    "connection.close()"
   ]
  },
  {
   "cell_type": "markdown",
   "metadata": {},
   "source": [
    "#### extract data"
   ]
  },
  {
   "cell_type": "code",
   "execution_count": 45,
   "metadata": {
    "scrolled": true
   },
   "outputs": [
    {
     "name": "stdout",
     "output_type": "stream",
     "text": [
      "(1, 'Raj', 'M', 70, 84, 92)\n",
      "(2, 'Poonam', 'F', 87, 69, 93)\n",
      "(3, 'Nik', 'M', 65, 83, 90)\n",
      "(4, 'Rahul', 'F', 83, 76, 89)\n"
     ]
    }
   ],
   "source": [
    "# open connection\n",
    "connection = sqlite3.connect(\"classroomDB.db\")\n",
    "# open cursor\n",
    "cursor = connection.cursor()\n",
    "# query\n",
    "query = \"SELECT * FROM classroom\"\n",
    "# execute query\n",
    "cursor.execute(query) \n",
    "# fetch results\n",
    "result = cursor.fetchall() \n",
    "# print results\n",
    "for row in result:\n",
    "    print(row)\n",
    "# close connection\n",
    "connection.close()"
   ]
  },
  {
   "cell_type": "markdown",
   "metadata": {
    "collapsed": true
   },
   "source": [
    "### MySQL database"
   ]
  },
  {
   "cell_type": "markdown",
   "metadata": {},
   "source": [
    "#### install package"
   ]
  },
  {
   "cell_type": "code",
   "execution_count": 46,
   "metadata": {},
   "outputs": [],
   "source": [
    "# !conda install -y -q pymysql"
   ]
  },
  {
   "cell_type": "markdown",
   "metadata": {},
   "source": [
    "#### import package"
   ]
  },
  {
   "cell_type": "code",
   "execution_count": 1,
   "metadata": {},
   "outputs": [],
   "source": [
    "# import package\n",
    "import pymysql\n",
    "\n"
   ]
  },
  {
   "cell_type": "markdown",
   "metadata": {},
   "source": [
    "#### connect to database"
   ]
  },
  {
   "cell_type": "code",
   "execution_count": 13,
   "metadata": {},
   "outputs": [
    {
     "name": "stdout",
     "output_type": "stream",
     "text": [
      "Connection established\n",
      "Connection closed\n"
     ]
    }
   ],
   "source": [
    "# Connection info\n",
    "config = {\n",
    "    'user': 'eva4good@evatestdb', \n",
    "    'password' : 'Ch1bu!k33z3kw3m', \n",
    "    'database' : 'classroomDB', \n",
    "    'host' : 'evatestdb.mysql.database.azure.com', \n",
    "    'ssl' : {'ssl': {'ca': '/var/www/html/BaltimoreCyberTrustRoot.crt.pem'}}\n",
    "}\n",
    "\n",
    "#Connect to database\n",
    "try:\n",
    "    # opens a connection to database\n",
    "    connection = pymysql.connect(**config)\n",
    "    print(\"Connection established\")\n",
    "    \n",
    "    # closes connection to database\n",
    "    connection.close()\n",
    "    print(\"Connection closed\")\n",
    "    \n",
    "except pymysql.Error as e:\n",
    "    print(\"Error %d: %s\" % (e.args[0], e.args[1]))\n",
    "\n",
    "\n",
    "\n"
   ]
  },
  {
   "cell_type": "markdown",
   "metadata": {},
   "source": [
    "#### create a table"
   ]
  },
  {
   "cell_type": "code",
   "execution_count": 14,
   "metadata": {},
   "outputs": [
    {
     "name": "stdout",
     "output_type": "stream",
     "text": [
      "Connection established\n",
      "Error 1050: Table 'dsclassroom' already exists\n"
     ]
    }
   ],
   "source": [
    "# open connection to database\n",
    "try:\n",
    "    connection = pymysql.connect(**config)\n",
    "    print(\"Connection established\")\n",
    "    \n",
    "    # open cursor\n",
    "    cursor = connection.cursor()\n",
    "\n",
    "    create_table = \"\"\"\n",
    "                    CREATE TABLE dsclassroom ( \n",
    "                    student_id INTEGER PRIMARY KEY, \n",
    "                    name VARCHAR(20), \n",
    "                    gender CHAR(1), \n",
    "                    algebra_marks INTEGER,\n",
    "                    calculus_marks INTEGER,\n",
    "                    programming_marks INTEGER\n",
    "                  );\"\"\"\n",
    "    \n",
    "    # execute query\n",
    "    try:\n",
    "        cursor.execute(create_table)\n",
    "        \n",
    "        # commit changes\n",
    "        connection.commit()\n",
    "        print(\"Table created\")\n",
    "        \n",
    "        \n",
    "        # close connection\n",
    "        connection.close()\n",
    "        print(\"Connection closed\")\n",
    "        \n",
    "    except pymysql.Error as e:\n",
    "        print(\"Error %d: %s\" % (e.args[0], e.args[1]))\n",
    "\n",
    "\n",
    "\n",
    "except pymysql.Error as e:\n",
    "    print(\"Error %d: %s\" % (e.args[0], e.args[1]))\n",
    "\n",
    " "
   ]
  },
  {
   "cell_type": "markdown",
   "metadata": {},
   "source": [
    "#### Inserting data"
   ]
  },
  {
   "cell_type": "code",
   "execution_count": 18,
   "metadata": {},
   "outputs": [
    {
     "name": "stdout",
     "output_type": "stream",
     "text": [
      "Connection established\n",
      "Error 1062: Duplicate entry '1' for key 'PRIMARY'\n",
      "Error 1062: Duplicate entry '2' for key 'PRIMARY'\n",
      "Error 1062: Duplicate entry '3' for key 'PRIMARY'\n",
      "Error 1062: Duplicate entry '4' for key 'PRIMARY'\n"
     ]
    }
   ],
   "source": [
    "# sample data\n",
    "classroom_data = [( 1, \"Tonye\",\"M\", 70, 84, 92),\n",
    "                  ( 2, \"Fiberesima\",\"F\", 87, 69, 93),\n",
    "                  ( 3, \"Eva\",\"M\", 65, 83, 90),\n",
    "                  ( 4, \"Jane\",\"F\", 83, 76, 89)]\n",
    "\n",
    "# open connection to database\n",
    "try:\n",
    "    connection = pymysql.connect(**config)\n",
    "    print(\"Connection established\")\n",
    "    \n",
    "    # open cursor\n",
    "    cursor = connection.cursor()\n",
    "\n",
    "    # insert each student record\n",
    "    for student in classroom_data:\n",
    "        # formatted query string\n",
    "        insert_statement = \"\"\"INSERT INTO dsclassroom \n",
    "                          (student_id, name, gender, algebra_marks, calculus_marks, programming_marks)\n",
    "                          VALUES \n",
    "                          ({0}, \"{1}\", \"{2}\", {3}, {4}, {5});\"\"\".format(student[0], student[1], student[2], \n",
    "                                                              student[3],student[4], student[5])\n",
    "        \n",
    "         # execute query\n",
    "        try:\n",
    "            cursor.execute(insert_statement)\n",
    "        \n",
    "            # commit changes\n",
    "            connection.commit()\n",
    "            print(\"Record inserted\")\n",
    "        \n",
    "                           \n",
    "        except pymysql.Error as e:\n",
    "            print(\"Error %d: %s\" % (e.args[0], e.args[1]))\n",
    "        \n",
    "    # close connection to database\n",
    "    connection.close()\n",
    "    \n",
    "    \n",
    "except pymysql.Error as e:\n",
    "    print(\"Error %d: %s\" % (e.args[0], e.args[1]))\n",
    "\n",
    " "
   ]
  },
  {
   "cell_type": "markdown",
   "metadata": {},
   "source": [
    "#### Extract data from database"
   ]
  },
  {
   "cell_type": "code",
   "execution_count": 19,
   "metadata": {},
   "outputs": [
    {
     "name": "stdout",
     "output_type": "stream",
     "text": [
      "Connection established\n",
      "(1, 'Tonye', 'F', 90, 85, 98)\n",
      "(2, 'Fiberesima', 'F', 73, 65, 50)\n",
      "(3, 'Eva', 'M', 40, 23, 13)\n",
      "(4, 'Jane', 'F', 99, 100, 100)\n"
     ]
    }
   ],
   "source": [
    "\n",
    "# open connection to database\n",
    "try:\n",
    "    connection = pymysql.connect(**config)\n",
    "    print(\"Connection established\")\n",
    "    \n",
    "    # open cursor\n",
    "    cursor = connection.cursor()\n",
    "\n",
    "    # query\n",
    "    query = \"SELECT * FROM dsclassroom\"\n",
    "    \n",
    "    # execute query\n",
    "    try:\n",
    "        cursor.execute(query)\n",
    "        \n",
    "        # fetch results\n",
    "        result = cursor.fetchall() \n",
    "        \n",
    "        # print results\n",
    "        for row in result:\n",
    "            print(row)\n",
    "        \n",
    "        \n",
    "        # close connection\n",
    "        connection.close()\n",
    "        \n",
    "    except pymysql.Error as e:\n",
    "        print(\"Error %d: %s\" % (e.args[0], e.args[1]))\n",
    "\n",
    "\n",
    "\n",
    "except pymysql.Error as e:\n",
    "    print(\"Error %d: %s\" % (e.args[0], e.args[1]))\n",
    "\n",
    " "
   ]
  },
  {
   "cell_type": "markdown",
   "metadata": {},
   "source": [
    "### Microsoft SQL Server database"
   ]
  },
  {
   "cell_type": "markdown",
   "metadata": {},
   "source": [
    "#### install package"
   ]
  },
  {
   "cell_type": "code",
   "execution_count": 52,
   "metadata": {},
   "outputs": [],
   "source": [
    "# !conda install -y pymssql"
   ]
  },
  {
   "cell_type": "markdown",
   "metadata": {},
   "source": [
    "#### import package"
   ]
  },
  {
   "cell_type": "code",
   "execution_count": 24,
   "metadata": {},
   "outputs": [],
   "source": [
    "import pymssql\n",
    "import _mssql"
   ]
  },
  {
   "cell_type": "markdown",
   "metadata": {},
   "source": [
    "#### connect to database"
   ]
  },
  {
   "cell_type": "code",
   "execution_count": 26,
   "metadata": {},
   "outputs": [
    {
     "name": "stdout",
     "output_type": "stream",
     "text": [
      "Connection Established\n",
      "Connection Closed\n"
     ]
    }
   ],
   "source": [
    "cnx= {\n",
    "      'host': 'mltest1.database.windows.net:1433',\n",
    "      'username': 'eva4good@mltest1',\n",
    "      'password': 'Ch1bu!k33z3kw3m',\n",
    "      'db': 'evatest_sqldb'\n",
    "    }\n",
    "\n",
    "try:\n",
    "    conn = pymssql.connect(cnx['host'], cnx['username'], cnx['password'], cnx['db'])\n",
    "    print(\"Connection Established\")\n",
    "    conn.close()\n",
    "    print(\"Connection Closed\")\n",
    "    \n",
    "except:\n",
    "    raise\n",
    "finally:\n",
    "    conn.close()"
   ]
  },
  {
   "cell_type": "markdown",
   "metadata": {},
   "source": [
    "#### create table"
   ]
  },
  {
   "cell_type": "code",
   "execution_count": 29,
   "metadata": {
    "scrolled": true
   },
   "outputs": [
    {
     "name": "stdout",
     "output_type": "stream",
     "text": [
      "Connection established\n",
      "Error 2714: b\"There is already an object named 'dsclassroom' in the database.DB-Lib error message 20018, severity 16:\\nGeneral SQL Server error: Check messages from the SQL Server\\n\"\n"
     ]
    }
   ],
   "source": [
    "# open connection to database\n",
    "try:\n",
    "    connection = pymssql.connect(cnx['host'], cnx['username'], cnx['password'], cnx['db'])\n",
    "    print(\"Connection established\")\n",
    "    \n",
    "    # open cursor\n",
    "    cursor = connection.cursor()\n",
    "\n",
    "    create_table = \"\"\"\n",
    "                    CREATE TABLE dsclassroom ( \n",
    "                    student_id INTEGER PRIMARY KEY, \n",
    "                    name VARCHAR(20), \n",
    "                    gender CHAR(1), \n",
    "                    algebra_marks INTEGER,\n",
    "                    calculus_marks INTEGER,\n",
    "                    programming_marks INTEGER\n",
    "                  );\"\"\"\n",
    "    \n",
    "    # execute query\n",
    "    try:\n",
    "        cursor.execute(create_table)\n",
    "        \n",
    "        # commit changes\n",
    "        connection.commit()\n",
    "        print(\"Table created\")\n",
    "        \n",
    "        \n",
    "        # close connection\n",
    "        connection.close()\n",
    "        \n",
    "    except _mssql.MssqlDatabaseException as e:\n",
    "        if e.number == 2714:\n",
    "        # table already existed, so silence the error\n",
    "            #print(\"Error %d: %s\" % (e[0], e[1]))\n",
    "            pass\n",
    "        \n",
    "        else:\n",
    "            raise # re-raise real error\n",
    "    finally:\n",
    "        connection.close()\n",
    "\n",
    "\n",
    "except pymssql.Error as e:\n",
    "    print(\"Error %d: %s\" % (e.args[0], e.args[1]))\n",
    "    pass\n",
    "\n",
    "\n",
    " "
   ]
  },
  {
   "cell_type": "markdown",
   "metadata": {},
   "source": [
    "#### insert data"
   ]
  },
  {
   "cell_type": "code",
   "execution_count": 38,
   "metadata": {},
   "outputs": [
    {
     "name": "stdout",
     "output_type": "stream",
     "text": [
      "Automatic pdb calling has been turned ON\n",
      "Connection established\n",
      "Record inserted\n",
      "Record inserted\n",
      "Record inserted\n",
      "Record inserted\n"
     ]
    }
   ],
   "source": [
    "%pdb\n",
    "# sample data\n",
    "classroom_data = [( 8, \"Tonye\",\"M\", 70, 84, 92),\n",
    "                  ( 9, \"Fiberesima\",\"F\", 87, 69, 93),\n",
    "                  ( 10, \"Eva\",\"M\", 65, 83, 90),\n",
    "                  ( 11, \"Jane\",\"F\", 83, 76, 89)]\n",
    "\n",
    "# open connection to database\n",
    "try:\n",
    "    connection = pymssql.connect(cnx['host'],cnx['username'],cnx['password'],cnx['db'] )\n",
    "    print(\"Connection established\")\n",
    "    \n",
    "    # open cursor\n",
    "    cursor = connection.cursor()\n",
    "\n",
    "    # insert each student record\n",
    "    for student in classroom_data:\n",
    "        # formatted query string\n",
    "        insert_statement = \"\"\"INSERT INTO dsclassroom \n",
    "                          (student_id, name, gender, algebra_marks, calculus_marks, programming_marks)\n",
    "                          VALUES \n",
    "                          ({0}, '{1}', '{2}', {3}, {4}, {5});\"\"\".format(student[0], student[1], student[2], \n",
    "                                                              student[3],student[4], student[5])\n",
    "        \n",
    "         # execute query\n",
    "        try:\n",
    "            cursor.execute(insert_statement)\n",
    "        \n",
    "            # commit changes\n",
    "            connection.commit()\n",
    "            print(\"Record inserted\")\n",
    "        \n",
    "                           \n",
    "        except pymssql.Error as e:\n",
    "            print(\"Error %d: %s\" % (e.args[0], e.args[1]))\n",
    "        \n",
    "    # close connection to database\n",
    "    connection.close()\n",
    "    \n",
    "    \n",
    "except pymssql.Error as e:\n",
    "    print(\"Error %d: %s\" % (e.args[0], e.args[1]))\n",
    "\n",
    " "
   ]
  },
  {
   "cell_type": "markdown",
   "metadata": {},
   "source": [
    "#### extract data"
   ]
  },
  {
   "cell_type": "code",
   "execution_count": 39,
   "metadata": {},
   "outputs": [
    {
     "name": "stdout",
     "output_type": "stream",
     "text": [
      "Connection established\n",
      "(1, 'Tonye', 'F', 90, 85, 98)\n",
      "(2, 'Fiberesima', 'F', 73, 65, 50)\n",
      "(3, 'Eva', 'M', 40, 23, 13)\n",
      "(4, 'Jane', 'F', 99, 100, 100)\n",
      "(5, 'Fiberesima', 'F', 87, 69, 93)\n",
      "(6, 'Eva', 'M', 65, 83, 90)\n",
      "(7, 'Jane', 'F', 83, 76, 89)\n",
      "(8, 'Tonye', 'M', 70, 84, 92)\n",
      "(9, 'Fiberesima', 'F', 87, 69, 93)\n",
      "(10, 'Eva', 'M', 65, 83, 90)\n",
      "(11, 'Jane', 'F', 83, 76, 89)\n"
     ]
    }
   ],
   "source": [
    "\n",
    "# open connection to database\n",
    "try:\n",
    "    connection = pymssql.connect(cnx['host'],cnx['username'],cnx['password'],cnx['db'] )\n",
    "    print(\"Connection established\")\n",
    "    \n",
    "    # open cursor\n",
    "    cursor = connection.cursor()\n",
    "\n",
    "    # query\n",
    "    query = \"SELECT * FROM dsclassroom\"\n",
    "    \n",
    "    # execute query\n",
    "    try:\n",
    "        cursor.execute(query)\n",
    "        \n",
    "        \n",
    "        \n",
    "        # fetch results\n",
    "        result = cursor.fetchall() \n",
    "        \n",
    "        # print results\n",
    "        for row in result:\n",
    "            print(row)\n",
    "        \n",
    "        \n",
    "        # close connection\n",
    "        connection.close()\n",
    "        \n",
    "    except pymssql.Error as e:\n",
    "        print(\"Error %d: %s\" % (e.args[0], e.args[1]))\n",
    "\n",
    "\n",
    "\n",
    "except pymssql.Error as e:\n",
    "    print(\"Error %d: %s\" % (e.args[0], e.args[1]))\n",
    "\n",
    " "
   ]
  },
  {
   "cell_type": "code",
   "execution_count": null,
   "metadata": {},
   "outputs": [],
   "source": []
  }
 ],
 "metadata": {
  "anaconda-cloud": {},
  "hide_input": false,
  "kernelspec": {
   "display_name": "Python 3",
   "language": "python",
   "name": "python3"
  },
  "language_info": {
   "codemirror_mode": {
    "name": "ipython",
    "version": 3
   },
   "file_extension": ".py",
   "mimetype": "text/x-python",
   "name": "python",
   "nbconvert_exporter": "python",
   "pygments_lexer": "ipython3",
   "version": "3.6.6"
  },
  "toc": {
   "nav_menu": {
    "height": "390px",
    "width": "252px"
   },
   "navigate_menu": true,
   "number_sections": false,
   "sideBar": true,
   "threshold": 4,
   "toc_cell": false,
   "toc_section_display": "block",
   "toc_window_display": false
  }
 },
 "nbformat": 4,
 "nbformat_minor": 1
}
