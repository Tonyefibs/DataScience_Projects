{
 "cells": [
  {
   "cell_type": "code",
   "execution_count": 363,
   "metadata": {},
   "outputs": [],
   "source": [
    "# import libraries\n",
    "import requests\n",
    "from bs4 import BeautifulSoup\n",
    "from IPython.display import Markdown, display\n",
    "def printmd(string):\n",
    "    display(Markdown(string))"
   ]
  },
  {
   "cell_type": "code",
   "execution_count": 364,
   "metadata": {},
   "outputs": [
    {
     "name": "stdout",
     "output_type": "stream",
     "text": [
      "Request was successful\n"
     ]
    }
   ],
   "source": [
    "# url to scrape\n",
    "url = \"https://covenantuniversity.edu.ng/Colleges\"\n",
    "result = requests.get(url)\n",
    "# HTML String\n",
    "html_string = \"\"\n",
    "\n",
    "# Check if request was successful\n",
    "if result.status_code == 200:\n",
    "    print(\"Request was successful\")\n",
    "    html_string = result.text\n",
    "    \n",
    "#print(html_string)\n",
    "ps = BeautifulSoup(html_string)\n",
    "#print(ps)\n",
    "\n",
    "# use name parameter to select by tag name\n",
    "body = ps.find(name=\"body\")\n",
    "#print(body)"
   ]
  },
  {
   "cell_type": "markdown",
   "metadata": {},
   "source": [
    "### Finding All Colleges in Covenant University"
   ]
  },
  {
   "cell_type": "code",
   "execution_count": 365,
   "metadata": {},
   "outputs": [
    {
     "name": "stdout",
     "output_type": "stream",
     "text": [
      "['/Colleges/CBSS', '/Colleges/COE', '/Colleges/CLDS', '/Colleges/CST', '/Colleges/PGS']\n",
      "['College of Business and Social Sciences', 'College of Engineering', 'College of Leadership Development Studies', 'College of Science and Technology', 'School of Postgraduate Studies']\n"
     ]
    }
   ],
   "source": [
    "colleges = body.find(\"div\", {\"class\": \"folder_path\"})\n",
    "\n",
    "col_link = []\n",
    "alink = []\n",
    "for a in colleges.findAll('a', href=True): \n",
    "    if a.text: \n",
    "        col_link.append(a['href'])\n",
    "        alink.append(a.text)\n",
    "print(col_link)\n",
    "print(alink)"
   ]
  },
  {
   "cell_type": "markdown",
   "metadata": {},
   "source": [
    "### Information on the College of Business and Social Science"
   ]
  },
  {
   "cell_type": "code",
   "execution_count": 366,
   "metadata": {},
   "outputs": [
    {
     "data": {
      "text/markdown": [
       "<b style='font-size: x-large'>College of Business and Social Sciences</b>"
      ],
      "text/plain": [
       "<IPython.core.display.Markdown object>"
      ]
     },
     "metadata": {},
     "output_type": "display_data"
    },
    {
     "name": "stdout",
     "output_type": "stream",
     "text": [
      "Link: https://covenantuniversity.edu.ng/Colleges/CBSS\n",
      "\n",
      "\n",
      "The College is composed of following schools:\n",
      "\n",
      "School of Business (SBUS) \n",
      "School of Social Sciences (SSSC).\n",
      "\n"
     ]
    },
    {
     "data": {
      "text/markdown": [
       "<b style='font-size: medium'>Dean of College:</b>"
      ],
      "text/plain": [
       "<IPython.core.display.Markdown object>"
      ]
     },
     "metadata": {},
     "output_type": "display_data"
    },
    {
     "name": "stdout",
     "output_type": "stream",
     "text": [
      "Prof. Alege Philip\n",
      "\n",
      "\n"
     ]
    },
    {
     "data": {
      "text/markdown": [
       "<b style='font-size: large'>Departments (CBSS)</b>"
      ],
      "text/plain": [
       "<IPython.core.display.Markdown object>"
      ]
     },
     "metadata": {},
     "output_type": "display_data"
    },
    {
     "name": "stdout",
     "output_type": "stream",
     "text": [
      "\n",
      "\n"
     ]
    },
    {
     "data": {
      "text/markdown": [
       "<b style='font-size: large'>Department of Accounting:</b>"
      ],
      "text/plain": [
       "<IPython.core.display.Markdown object>"
      ]
     },
     "metadata": {},
     "output_type": "display_data"
    },
    {
     "name": "stdout",
     "output_type": "stream",
     "text": [
      "Link: https://covenantuniversity.edu.ng/Colleges/CBSS/SOB/Accounting:\n",
      "\n",
      "\n"
     ]
    },
    {
     "data": {
      "text/markdown": [
       "<b style='font-size: medium'>Programmes in Accounting:</b>"
      ],
      "text/plain": [
       "<IPython.core.display.Markdown object>"
      ]
     },
     "metadata": {},
     "output_type": "display_data"
    },
    {
     "name": "stdout",
     "output_type": "stream",
     "text": [
      "Accounting\n",
      "\n",
      "\n"
     ]
    },
    {
     "data": {
      "text/markdown": [
       "<b style='font-size: medium'>Featured Professor in Accounting:</b>"
      ],
      "text/plain": [
       "<IPython.core.display.Markdown object>"
      ]
     },
     "metadata": {},
     "output_type": "display_data"
    },
    {
     "name": "stdout",
     "output_type": "stream",
     "text": [
      "Dr Adetula Dorcas Titilayo\n",
      "\n",
      "\n"
     ]
    },
    {
     "data": {
      "text/markdown": [
       "<b style='font-size: large'>Department of Banking And Finance:</b>"
      ],
      "text/plain": [
       "<IPython.core.display.Markdown object>"
      ]
     },
     "metadata": {},
     "output_type": "display_data"
    },
    {
     "name": "stdout",
     "output_type": "stream",
     "text": [
      "Link: https://covenantuniversity.edu.ng/Colleges/CBSS/SOB/Banking-And-Finance:\n",
      "\n",
      "\n"
     ]
    },
    {
     "data": {
      "text/markdown": [
       "<b style='font-size: medium'>Programmes in Banking And Finance:</b>"
      ],
      "text/plain": [
       "<IPython.core.display.Markdown object>"
      ]
     },
     "metadata": {},
     "output_type": "display_data"
    },
    {
     "name": "stdout",
     "output_type": "stream",
     "text": [
      "Banking And Finance\n",
      "\n",
      "\n"
     ]
    },
    {
     "data": {
      "text/markdown": [
       "<b style='font-size: medium'>Featured Professor in Banking And Finance:</b>"
      ],
      "text/plain": [
       "<IPython.core.display.Markdown object>"
      ]
     },
     "metadata": {},
     "output_type": "display_data"
    },
    {
     "name": "stdout",
     "output_type": "stream",
     "text": [
      "Dr Omankhanlen Alex Ehimare\n",
      "\n",
      "\n"
     ]
    },
    {
     "data": {
      "text/markdown": [
       "<b style='font-size: large'>Department of Business Management:</b>"
      ],
      "text/plain": [
       "<IPython.core.display.Markdown object>"
      ]
     },
     "metadata": {},
     "output_type": "display_data"
    },
    {
     "name": "stdout",
     "output_type": "stream",
     "text": [
      "Link: https://covenantuniversity.edu.ng/Colleges/CBSS/SOB/Business-Management:\n",
      "\n",
      "\n"
     ]
    },
    {
     "data": {
      "text/markdown": [
       "<b style='font-size: medium'>Programmes in Business Management:</b>"
      ],
      "text/plain": [
       "<IPython.core.display.Markdown object>"
      ]
     },
     "metadata": {},
     "output_type": "display_data"
    },
    {
     "name": "stdout",
     "output_type": "stream",
     "text": [
      "\n",
      "\t\t\t\t\t\tBusiness Administration\n",
      "\t\t\t\t\t\t\t\t\t\t\t\t\t\n",
      "\n",
      "\n",
      "\t\t\t\t\t\tMarketing\n",
      "\t\t\t\t\t\t\t\t\t\t\t\t\t\n",
      "\n",
      "\n",
      "\t\t\t\t\t\tIndustrial Relations and HRM\n",
      "\t\t\t\t\t\t\t\t\t\t\t\t\t\n",
      "\n",
      "\n",
      "\t\t\t\t\t\tEntrepreneurship\n",
      "\t\t\t\t\t\t\t\t\t\t\t\t\t\n",
      "\n",
      "\n",
      "\n"
     ]
    },
    {
     "data": {
      "text/markdown": [
       "<b style='font-size: medium'>Featured Professor in Business Management:</b>"
      ],
      "text/plain": [
       "<IPython.core.display.Markdown object>"
      ]
     },
     "metadata": {},
     "output_type": "display_data"
    },
    {
     "name": "stdout",
     "output_type": "stream",
     "text": [
      "Professor Moses  Chinonye Love\n",
      "\n",
      "\n"
     ]
    },
    {
     "data": {
      "text/markdown": [
       "<b style='font-size: large'>Department of Economics And Development Studies:</b>"
      ],
      "text/plain": [
       "<IPython.core.display.Markdown object>"
      ]
     },
     "metadata": {},
     "output_type": "display_data"
    },
    {
     "name": "stdout",
     "output_type": "stream",
     "text": [
      "Link: https://covenantuniversity.edu.ng/Colleges/CBSS/SOB/Economics-And-Development-Studies:\n",
      "\n",
      "\n"
     ]
    },
    {
     "data": {
      "text/markdown": [
       "<b style='font-size: medium'>Programmes in Economics And Development Studies:</b>"
      ],
      "text/plain": [
       "<IPython.core.display.Markdown object>"
      ]
     },
     "metadata": {},
     "output_type": "display_data"
    },
    {
     "name": "stdout",
     "output_type": "stream",
     "text": [
      "Economics And Development Studies\n",
      "\n",
      "\n"
     ]
    },
    {
     "data": {
      "text/markdown": [
       "<b style='font-size: medium'>Featured Professor in Economics And Development Studies:</b>"
      ],
      "text/plain": [
       "<IPython.core.display.Markdown object>"
      ]
     },
     "metadata": {},
     "output_type": "display_data"
    },
    {
     "name": "stdout",
     "output_type": "stream",
     "text": [
      "Dr Azuh Dominic\n",
      "\n",
      "\n"
     ]
    },
    {
     "data": {
      "text/markdown": [
       "<b style='font-size: large'>Department of Mass Communication:</b>"
      ],
      "text/plain": [
       "<IPython.core.display.Markdown object>"
      ]
     },
     "metadata": {},
     "output_type": "display_data"
    },
    {
     "name": "stdout",
     "output_type": "stream",
     "text": [
      "Link: https://covenantuniversity.edu.ng/Colleges/CBSS/SOB/Mass-Communication:\n",
      "\n",
      "\n"
     ]
    },
    {
     "data": {
      "text/markdown": [
       "<b style='font-size: medium'>Programmes in Mass Communication:</b>"
      ],
      "text/plain": [
       "<IPython.core.display.Markdown object>"
      ]
     },
     "metadata": {},
     "output_type": "display_data"
    },
    {
     "name": "stdout",
     "output_type": "stream",
     "text": [
      "\n",
      "\t\t\t\t\t\tMass Communication \n",
      "\t\t\t\t\t\t\t\t\t\t\t\t\t\n",
      "\n",
      "\n",
      "\t\t\t\t\t\tMass Communication (PR Option)\n",
      "\t\t\t\t\t\t\t\t\t\t\t\t\t\n",
      "\n",
      "\n",
      "\n"
     ]
    },
    {
     "data": {
      "text/markdown": [
       "<b style='font-size: medium'>Featured Professor in Mass Communication:</b>"
      ],
      "text/plain": [
       "<IPython.core.display.Markdown object>"
      ]
     },
     "metadata": {},
     "output_type": "display_data"
    },
    {
     "name": "stdout",
     "output_type": "stream",
     "text": [
      "Dr Oyero Olusola Samuel\n",
      "\n",
      "\n"
     ]
    },
    {
     "data": {
      "text/markdown": [
       "<b style='font-size: large'>Department of Sociology:</b>"
      ],
      "text/plain": [
       "<IPython.core.display.Markdown object>"
      ]
     },
     "metadata": {},
     "output_type": "display_data"
    },
    {
     "name": "stdout",
     "output_type": "stream",
     "text": [
      "Link: https://covenantuniversity.edu.ng/Colleges/CBSS/SOB/Sociology:\n",
      "\n",
      "\n"
     ]
    },
    {
     "data": {
      "text/markdown": [
       "<b style='font-size: medium'>Programmes in Sociology:</b>"
      ],
      "text/plain": [
       "<IPython.core.display.Markdown object>"
      ]
     },
     "metadata": {},
     "output_type": "display_data"
    },
    {
     "name": "stdout",
     "output_type": "stream",
     "text": [
      "Sociology\n",
      "\n",
      "\n"
     ]
    },
    {
     "data": {
      "text/markdown": [
       "<b style='font-size: medium'>Featured Professor in Sociology:</b>"
      ],
      "text/plain": [
       "<IPython.core.display.Markdown object>"
      ]
     },
     "metadata": {},
     "output_type": "display_data"
    },
    {
     "name": "stdout",
     "output_type": "stream",
     "text": [
      "Dr. Iruonagbe Charles\n",
      "\n",
      "\n"
     ]
    },
    {
     "data": {
      "text/markdown": [
       "<b style='font-size: x-large'>College of Engineering</b>"
      ],
      "text/plain": [
       "<IPython.core.display.Markdown object>"
      ]
     },
     "metadata": {},
     "output_type": "display_data"
    },
    {
     "name": "stdout",
     "output_type": "stream",
     "text": [
      "Link: https://covenantuniversity.edu.ng/Colleges/COE\n",
      "\n",
      "\n"
     ]
    },
    {
     "data": {
      "text/markdown": [
       "<b style='font-size: medium'>Dean of College:</b>"
      ],
      "text/plain": [
       "<IPython.core.display.Markdown object>"
      ]
     },
     "metadata": {},
     "output_type": "display_data"
    },
    {
     "name": "stdout",
     "output_type": "stream",
     "text": [
      "Professor Omole David\n",
      "\n",
      "\n"
     ]
    },
    {
     "data": {
      "text/markdown": [
       "<b style='font-size: large'>Departments</b>"
      ],
      "text/plain": [
       "<IPython.core.display.Markdown object>"
      ]
     },
     "metadata": {},
     "output_type": "display_data"
    },
    {
     "name": "stdout",
     "output_type": "stream",
     "text": [
      "\n",
      "\n"
     ]
    },
    {
     "data": {
      "text/markdown": [
       "<b style='font-size: large'>Department of Chemical Engineering:</b>"
      ],
      "text/plain": [
       "<IPython.core.display.Markdown object>"
      ]
     },
     "metadata": {},
     "output_type": "display_data"
    },
    {
     "name": "stdout",
     "output_type": "stream",
     "text": [
      "Link: https://covenantuniversity.edu.ng/Colleges/COE/SOCPE/Chemical-Engineering:\n",
      "\n",
      "\n"
     ]
    },
    {
     "data": {
      "text/markdown": [
       "<b style='font-size: medium'>Programmes in Chemical Engineering:</b>"
      ],
      "text/plain": [
       "<IPython.core.display.Markdown object>"
      ]
     },
     "metadata": {},
     "output_type": "display_data"
    },
    {
     "name": "stdout",
     "output_type": "stream",
     "text": [
      "Chemical Engineering\n",
      "\n",
      "\n"
     ]
    },
    {
     "data": {
      "text/markdown": [
       "<b style='font-size: medium'>Featured Professor in Chemical Engineering:</b>"
      ],
      "text/plain": [
       "<IPython.core.display.Markdown object>"
      ]
     },
     "metadata": {},
     "output_type": "display_data"
    },
    {
     "name": "stdout",
     "output_type": "stream",
     "text": [
      "Dr. Ayeni Augustine Omoniyi\n",
      "\n",
      "\n"
     ]
    },
    {
     "data": {
      "text/markdown": [
       "<b style='font-size: large'>Department of Petroleum Engineering:</b>"
      ],
      "text/plain": [
       "<IPython.core.display.Markdown object>"
      ]
     },
     "metadata": {},
     "output_type": "display_data"
    },
    {
     "name": "stdout",
     "output_type": "stream",
     "text": [
      "Link: https://covenantuniversity.edu.ng/Colleges/COE/SOCPE/Petroleum-Engineering:\n",
      "\n",
      "\n"
     ]
    },
    {
     "data": {
      "text/markdown": [
       "<b style='font-size: medium'>Programmes in Petroleum Engineering:</b>"
      ],
      "text/plain": [
       "<IPython.core.display.Markdown object>"
      ]
     },
     "metadata": {},
     "output_type": "display_data"
    },
    {
     "name": "stdout",
     "output_type": "stream",
     "text": [
      "Petroleum Engineering\n",
      "\n",
      "\n"
     ]
    },
    {
     "data": {
      "text/markdown": [
       "<b style='font-size: medium'>Featured Professor in Petroleum Engineering:</b>"
      ],
      "text/plain": [
       "<IPython.core.display.Markdown object>"
      ]
     },
     "metadata": {},
     "output_type": "display_data"
    },
    {
     "name": "stdout",
     "output_type": "stream",
     "text": [
      "Professor Orodu Oyinkepreye David\n",
      "\n",
      "\n"
     ]
    },
    {
     "data": {
      "text/markdown": [
       "<b style='font-size: large'>Department of Electrical & Information Engineering (EIE) :</b>"
      ],
      "text/plain": [
       "<IPython.core.display.Markdown object>"
      ]
     },
     "metadata": {},
     "output_type": "display_data"
    },
    {
     "name": "stdout",
     "output_type": "stream",
     "text": [
      "Link: https://covenantuniversity.edu.ng/Colleges/COE/SOCPE/Electrical-Information-Engineering-EIE:\n",
      "\n",
      "\n"
     ]
    },
    {
     "data": {
      "text/markdown": [
       "<b style='font-size: medium'>Programmes in Electrical & Information Engineering (EIE) :</b>"
      ],
      "text/plain": [
       "<IPython.core.display.Markdown object>"
      ]
     },
     "metadata": {},
     "output_type": "display_data"
    },
    {
     "name": "stdout",
     "output_type": "stream",
     "text": [
      "\n",
      "\t\t\t\t\t\tComputer Engineering\n",
      "\t\t\t\t\t\t\t\t\t\t\t\t\t\n",
      "\n",
      "\n",
      "\t\t\t\t\t\tElectrical and Electronics Engineering\n",
      "\t\t\t\t\t\t\t\t\t\t\t\t\t\n",
      "\n",
      "\n",
      "\t\t\t\t\t\tInformation and Communication Technology\n",
      "\t\t\t\t\t\t\t\t\t\t\t\t\t\n",
      "\n",
      "\n",
      "\n"
     ]
    },
    {
     "data": {
      "text/markdown": [
       "<b style='font-size: medium'>Featured Professor in Electrical & Information Engineering (EIE) :</b>"
      ],
      "text/plain": [
       "<IPython.core.display.Markdown object>"
      ]
     },
     "metadata": {},
     "output_type": "display_data"
    },
    {
     "name": "stdout",
     "output_type": "stream",
     "text": [
      "Professor Adoghe  Anthony U.\n",
      "\n",
      "\n"
     ]
    },
    {
     "data": {
      "text/markdown": [
       "<b style='font-size: large'>Department of Civil Engineering:</b>"
      ],
      "text/plain": [
       "<IPython.core.display.Markdown object>"
      ]
     },
     "metadata": {},
     "output_type": "display_data"
    },
    {
     "name": "stdout",
     "output_type": "stream",
     "text": [
      "Link: https://covenantuniversity.edu.ng/Colleges/COE/SOCPE/Civil-Engineering:\n",
      "\n",
      "\n"
     ]
    },
    {
     "data": {
      "text/markdown": [
       "<b style='font-size: medium'>Programmes in Civil Engineering:</b>"
      ],
      "text/plain": [
       "<IPython.core.display.Markdown object>"
      ]
     },
     "metadata": {},
     "output_type": "display_data"
    },
    {
     "name": "stdout",
     "output_type": "stream",
     "text": [
      "Civil Engineering\n",
      "\n",
      "\n"
     ]
    },
    {
     "data": {
      "text/markdown": [
       "<b style='font-size: medium'>Featured Professor in Civil Engineering:</b>"
      ],
      "text/plain": [
       "<IPython.core.display.Markdown object>"
      ]
     },
     "metadata": {},
     "output_type": "display_data"
    },
    {
     "name": "stdout",
     "output_type": "stream",
     "text": [
      "Dr Ede Anthony N.\n",
      "\n",
      "\n"
     ]
    },
    {
     "data": {
      "text/markdown": [
       "<b style='font-size: large'>Department of Mechanical Engineering:</b>"
      ],
      "text/plain": [
       "<IPython.core.display.Markdown object>"
      ]
     },
     "metadata": {},
     "output_type": "display_data"
    },
    {
     "name": "stdout",
     "output_type": "stream",
     "text": [
      "Link: https://covenantuniversity.edu.ng/Colleges/COE/SOCPE/Mechanical-Engineering:\n",
      "\n",
      "\n"
     ]
    },
    {
     "data": {
      "text/markdown": [
       "<b style='font-size: medium'>Programmes in Mechanical Engineering:</b>"
      ],
      "text/plain": [
       "<IPython.core.display.Markdown object>"
      ]
     },
     "metadata": {},
     "output_type": "display_data"
    },
    {
     "name": "stdout",
     "output_type": "stream",
     "text": [
      "Mechanical Engineering\n",
      "\n",
      "\n"
     ]
    },
    {
     "data": {
      "text/markdown": [
       "<b style='font-size: medium'>Featured Professor in Mechanical Engineering:</b>"
      ],
      "text/plain": [
       "<IPython.core.display.Markdown object>"
      ]
     },
     "metadata": {},
     "output_type": "display_data"
    },
    {
     "name": "stdout",
     "output_type": "stream",
     "text": [
      "Professor Oyedepo Sunday Olayinka\n",
      "\n",
      "\n"
     ]
    },
    {
     "data": {
      "text/markdown": [
       "<b style='font-size: x-large'>College of Leadership Development Studies</b>"
      ],
      "text/plain": [
       "<IPython.core.display.Markdown object>"
      ]
     },
     "metadata": {},
     "output_type": "display_data"
    },
    {
     "name": "stdout",
     "output_type": "stream",
     "text": [
      "Link: https://covenantuniversity.edu.ng/Colleges/CLDS\n",
      "\n",
      "\n"
     ]
    },
    {
     "data": {
      "text/markdown": [
       "<b style='font-size: medium'>Dean of College:</b>"
      ],
      "text/plain": [
       "<IPython.core.display.Markdown object>"
      ]
     },
     "metadata": {},
     "output_type": "display_data"
    },
    {
     "name": "stdout",
     "output_type": "stream",
     "text": [
      "Professor Chiluwa Innocent E.\n",
      "\n",
      "\n"
     ]
    },
    {
     "data": {
      "text/markdown": [
       "<b style='font-size: large'>Departments (SLD)</b>"
      ],
      "text/plain": [
       "<IPython.core.display.Markdown object>"
      ]
     },
     "metadata": {},
     "output_type": "display_data"
    },
    {
     "name": "stdout",
     "output_type": "stream",
     "text": [
      "\n",
      "\n"
     ]
    },
    {
     "data": {
      "text/markdown": [
       "<b style='font-size: large'>Department of Leadership Studies:</b>"
      ],
      "text/plain": [
       "<IPython.core.display.Markdown object>"
      ]
     },
     "metadata": {},
     "output_type": "display_data"
    },
    {
     "name": "stdout",
     "output_type": "stream",
     "text": [
      "Link: https://covenantuniversity.edu.ng/Colleges/CLDS/SLD/Leadership-Studies:\n",
      "\n",
      "\n"
     ]
    },
    {
     "data": {
      "text/markdown": [
       "<b style='font-size: medium'>Programmes in Leadership Studies:</b>"
      ],
      "text/plain": [
       "<IPython.core.display.Markdown object>"
      ]
     },
     "metadata": {},
     "output_type": "display_data"
    },
    {
     "name": "stdout",
     "output_type": "stream",
     "text": [
      "Leadership Studies\n",
      "\n",
      "\n"
     ]
    },
    {
     "data": {
      "text/markdown": [
       "<b style='font-size: large'>Department of Languages and General Studies:</b>"
      ],
      "text/plain": [
       "<IPython.core.display.Markdown object>"
      ]
     },
     "metadata": {},
     "output_type": "display_data"
    },
    {
     "name": "stdout",
     "output_type": "stream",
     "text": [
      "Link: https://covenantuniversity.edu.ng/Colleges/CLDS/SLD/Languages-and-General-Studies:\n",
      "\n",
      "\n"
     ]
    },
    {
     "data": {
      "text/markdown": [
       "<b style='font-size: medium'>Programmes in Languages and General Studies:</b>"
      ],
      "text/plain": [
       "<IPython.core.display.Markdown object>"
      ]
     },
     "metadata": {},
     "output_type": "display_data"
    },
    {
     "name": "stdout",
     "output_type": "stream",
     "text": [
      "\n",
      "\t\t\t\t\t\tEnglish\n",
      "\t\t\t\t\t\t\t\t\t\t\t\t\t\n",
      "\n",
      "\n",
      "\t\t\t\t\t\tFrench\n",
      "\t\t\t\t\t\t\t\t\t\t\t\t\t\n",
      "\n",
      "\n",
      "\n"
     ]
    },
    {
     "data": {
      "text/markdown": [
       "<b style='font-size: medium'>Featured Professor in Languages and General Studies:</b>"
      ],
      "text/plain": [
       "<IPython.core.display.Markdown object>"
      ]
     },
     "metadata": {},
     "output_type": "display_data"
    },
    {
     "name": "stdout",
     "output_type": "stream",
     "text": [
      "Professor Ogbulogo Charles\n",
      "\n",
      "\n"
     ]
    },
    {
     "data": {
      "text/markdown": [
       "<b style='font-size: large'>Department of Psychology:</b>"
      ],
      "text/plain": [
       "<IPython.core.display.Markdown object>"
      ]
     },
     "metadata": {},
     "output_type": "display_data"
    },
    {
     "name": "stdout",
     "output_type": "stream",
     "text": [
      "Link: https://covenantuniversity.edu.ng/Colleges/CLDS/SLD/Psychology:\n",
      "\n",
      "\n"
     ]
    },
    {
     "data": {
      "text/markdown": [
       "<b style='font-size: medium'>Programmes in Psychology:</b>"
      ],
      "text/plain": [
       "<IPython.core.display.Markdown object>"
      ]
     },
     "metadata": {},
     "output_type": "display_data"
    },
    {
     "name": "stdout",
     "output_type": "stream",
     "text": [
      "Psychology\n",
      "\n",
      "\n"
     ]
    },
    {
     "data": {
      "text/markdown": [
       "<b style='font-size: medium'>Featured Professor in Psychology:</b>"
      ],
      "text/plain": [
       "<IPython.core.display.Markdown object>"
      ]
     },
     "metadata": {},
     "output_type": "display_data"
    },
    {
     "name": "stdout",
     "output_type": "stream",
     "text": [
      "Dr Odukoya Jonathan Adedayo\n",
      "\n",
      "\n"
     ]
    },
    {
     "data": {
      "text/markdown": [
       "<b style='font-size: large'>Department of Political Science & International Relations :</b>"
      ],
      "text/plain": [
       "<IPython.core.display.Markdown object>"
      ]
     },
     "metadata": {},
     "output_type": "display_data"
    },
    {
     "name": "stdout",
     "output_type": "stream",
     "text": [
      "Link: https://covenantuniversity.edu.ng/Colleges/CLDS/SLD/Political-Science-International-Relations:\n",
      "\n",
      "\n"
     ]
    },
    {
     "data": {
      "text/markdown": [
       "<b style='font-size: medium'>Programmes in Political Science & International Relations :</b>"
      ],
      "text/plain": [
       "<IPython.core.display.Markdown object>"
      ]
     },
     "metadata": {},
     "output_type": "display_data"
    },
    {
     "name": "stdout",
     "output_type": "stream",
     "text": [
      "Political Science & International Relations \n",
      "\n",
      "\n"
     ]
    },
    {
     "data": {
      "text/markdown": [
       "<b style='font-size: medium'>Featured Professor in Political Science & International Relations :</b>"
      ],
      "text/plain": [
       "<IPython.core.display.Markdown object>"
      ]
     },
     "metadata": {},
     "output_type": "display_data"
    },
    {
     "name": "stdout",
     "output_type": "stream",
     "text": [
      "Professor Folarin Sheriff F.\n",
      "\n",
      "\n"
     ]
    },
    {
     "data": {
      "text/markdown": [
       "<b style='font-size: x-large'>College of Science and Technology</b>"
      ],
      "text/plain": [
       "<IPython.core.display.Markdown object>"
      ]
     },
     "metadata": {},
     "output_type": "display_data"
    },
    {
     "name": "stdout",
     "output_type": "stream",
     "text": [
      "Link: https://covenantuniversity.edu.ng/Colleges/CST\n",
      "\n",
      "\n"
     ]
    },
    {
     "data": {
      "text/markdown": [
       "<b style='font-size: medium'>Dean of College:</b>"
      ],
      "text/plain": [
       "<IPython.core.display.Markdown object>"
      ]
     },
     "metadata": {},
     "output_type": "display_data"
    },
    {
     "name": "stdout",
     "output_type": "stream",
     "text": [
      "Professor Ajanaku Kolawole Oluseyi\n",
      "\n",
      "\n"
     ]
    },
    {
     "data": {
      "text/markdown": [
       "<b style='font-size: large'>Departments</b>"
      ],
      "text/plain": [
       "<IPython.core.display.Markdown object>"
      ]
     },
     "metadata": {},
     "output_type": "display_data"
    },
    {
     "name": "stdout",
     "output_type": "stream",
     "text": [
      "\n",
      "\n"
     ]
    },
    {
     "data": {
      "text/markdown": [
       "<b style='font-size: large'>Department of Physics:</b>"
      ],
      "text/plain": [
       "<IPython.core.display.Markdown object>"
      ]
     },
     "metadata": {},
     "output_type": "display_data"
    },
    {
     "name": "stdout",
     "output_type": "stream",
     "text": [
      "Link: https://covenantuniversity.edu.ng/Colleges/CST/SNAS/Physics:\n",
      "\n",
      "\n"
     ]
    },
    {
     "data": {
      "text/markdown": [
       "<b style='font-size: medium'>Programmes in Physics:</b>"
      ],
      "text/plain": [
       "<IPython.core.display.Markdown object>"
      ]
     },
     "metadata": {},
     "output_type": "display_data"
    },
    {
     "name": "stdout",
     "output_type": "stream",
     "text": [
      "Physics\n",
      "\n",
      "\n"
     ]
    },
    {
     "data": {
      "text/markdown": [
       "<b style='font-size: medium'>Featured Professor in Physics:</b>"
      ],
      "text/plain": [
       "<IPython.core.display.Markdown object>"
      ]
     },
     "metadata": {},
     "output_type": "display_data"
    },
    {
     "name": "stdout",
     "output_type": "stream",
     "text": [
      "Professor Aizebeokhai Ahzegbobor Philips\n",
      "\n",
      "\n"
     ]
    },
    {
     "data": {
      "text/markdown": [
       "<b style='font-size: large'>Department of Building Technology:</b>"
      ],
      "text/plain": [
       "<IPython.core.display.Markdown object>"
      ]
     },
     "metadata": {},
     "output_type": "display_data"
    },
    {
     "name": "stdout",
     "output_type": "stream",
     "text": [
      "Link: https://covenantuniversity.edu.ng/Colleges/CST/SNAS/Building-Technology:\n",
      "\n",
      "\n"
     ]
    },
    {
     "data": {
      "text/markdown": [
       "<b style='font-size: medium'>Programmes in Building Technology:</b>"
      ],
      "text/plain": [
       "<IPython.core.display.Markdown object>"
      ]
     },
     "metadata": {},
     "output_type": "display_data"
    },
    {
     "name": "stdout",
     "output_type": "stream",
     "text": [
      "Building Technology\n",
      "\n",
      "\n"
     ]
    },
    {
     "data": {
      "text/markdown": [
       "<b style='font-size: medium'>Featured Professor in Building Technology:</b>"
      ],
      "text/plain": [
       "<IPython.core.display.Markdown object>"
      ]
     },
     "metadata": {},
     "output_type": "display_data"
    },
    {
     "name": "stdout",
     "output_type": "stream",
     "text": [
      "Dr. Amusan Lekan\n",
      "\n",
      "\n"
     ]
    },
    {
     "data": {
      "text/markdown": [
       "<b style='font-size: large'>Department of Chemistry:</b>"
      ],
      "text/plain": [
       "<IPython.core.display.Markdown object>"
      ]
     },
     "metadata": {},
     "output_type": "display_data"
    },
    {
     "name": "stdout",
     "output_type": "stream",
     "text": [
      "Link: https://covenantuniversity.edu.ng/Colleges/CST/SNAS/Chemistry:\n",
      "\n",
      "\n"
     ]
    },
    {
     "data": {
      "text/markdown": [
       "<b style='font-size: medium'>Programmes in Chemistry:</b>"
      ],
      "text/plain": [
       "<IPython.core.display.Markdown object>"
      ]
     },
     "metadata": {},
     "output_type": "display_data"
    },
    {
     "name": "stdout",
     "output_type": "stream",
     "text": [
      "Chemistry\n",
      "\n",
      "\n"
     ]
    },
    {
     "data": {
      "text/markdown": [
       "<b style='font-size: medium'>Featured Professor in Chemistry:</b>"
      ],
      "text/plain": [
       "<IPython.core.display.Markdown object>"
      ]
     },
     "metadata": {},
     "output_type": "display_data"
    },
    {
     "name": "stdout",
     "output_type": "stream",
     "text": [
      "Prof. AJANI OLAYINKA OYEWALE\n",
      "\n",
      "\n"
     ]
    },
    {
     "data": {
      "text/markdown": [
       "<b style='font-size: large'>Department of Mathematics:</b>"
      ],
      "text/plain": [
       "<IPython.core.display.Markdown object>"
      ]
     },
     "metadata": {},
     "output_type": "display_data"
    },
    {
     "name": "stdout",
     "output_type": "stream",
     "text": [
      "Link: https://covenantuniversity.edu.ng/Colleges/CST/SNAS/Mathematics:\n",
      "\n",
      "\n"
     ]
    },
    {
     "data": {
      "text/markdown": [
       "<b style='font-size: medium'>Programmes in Mathematics:</b>"
      ],
      "text/plain": [
       "<IPython.core.display.Markdown object>"
      ]
     },
     "metadata": {},
     "output_type": "display_data"
    },
    {
     "name": "stdout",
     "output_type": "stream",
     "text": [
      "Mathematics\n",
      "\n",
      "\n"
     ]
    },
    {
     "data": {
      "text/markdown": [
       "<b style='font-size: medium'>Featured Professor in Mathematics:</b>"
      ],
      "text/plain": [
       "<IPython.core.display.Markdown object>"
      ]
     },
     "metadata": {},
     "output_type": "display_data"
    },
    {
     "name": "stdout",
     "output_type": "stream",
     "text": [
      "Dr. Bishop Sheila \n",
      "\n",
      "\n"
     ]
    },
    {
     "data": {
      "text/markdown": [
       "<b style='font-size: large'>Department of Biochemistry:</b>"
      ],
      "text/plain": [
       "<IPython.core.display.Markdown object>"
      ]
     },
     "metadata": {},
     "output_type": "display_data"
    },
    {
     "name": "stdout",
     "output_type": "stream",
     "text": [
      "Link: https://covenantuniversity.edu.ng/Colleges/CST/SNAS/Biochemistry:\n",
      "\n",
      "\n"
     ]
    },
    {
     "data": {
      "text/markdown": [
       "<b style='font-size: medium'>Programmes in Biochemistry:</b>"
      ],
      "text/plain": [
       "<IPython.core.display.Markdown object>"
      ]
     },
     "metadata": {},
     "output_type": "display_data"
    },
    {
     "name": "stdout",
     "output_type": "stream",
     "text": [
      "Biochemistry\n",
      "\n",
      "\n"
     ]
    },
    {
     "data": {
      "text/markdown": [
       "<b style='font-size: medium'>Featured Professor in Biochemistry:</b>"
      ],
      "text/plain": [
       "<IPython.core.display.Markdown object>"
      ]
     },
     "metadata": {},
     "output_type": "display_data"
    },
    {
     "name": "stdout",
     "output_type": "stream",
     "text": [
      "Professor  Ogunlana Olubanke \n",
      "\n",
      "\n"
     ]
    },
    {
     "data": {
      "text/markdown": [
       "<b style='font-size: large'>Department of Computer & Information Sciences:</b>"
      ],
      "text/plain": [
       "<IPython.core.display.Markdown object>"
      ]
     },
     "metadata": {},
     "output_type": "display_data"
    },
    {
     "name": "stdout",
     "output_type": "stream",
     "text": [
      "Link: https://covenantuniversity.edu.ng/Colleges/CST/SNAS/Computer-Information-Sciences:\n",
      "\n",
      "\n"
     ]
    },
    {
     "data": {
      "text/markdown": [
       "<b style='font-size: medium'>Programmes in Computer & Information Sciences:</b>"
      ],
      "text/plain": [
       "<IPython.core.display.Markdown object>"
      ]
     },
     "metadata": {},
     "output_type": "display_data"
    },
    {
     "name": "stdout",
     "output_type": "stream",
     "text": [
      "\n",
      "\t\t\t\t\t\tComputer Science\n",
      "\t\t\t\t\t\t\t\t\t\t\t\t\t\n",
      "\n",
      "\n",
      "\t\t\t\t\t\tManagement and Information Science\n",
      "\t\t\t\t\t\t\t\t\t\t\t\t\t\n",
      "\n",
      "\n",
      "\n"
     ]
    },
    {
     "data": {
      "text/markdown": [
       "<b style='font-size: medium'>Featured Professor in Computer & Information Sciences:</b>"
      ],
      "text/plain": [
       "<IPython.core.display.Markdown object>"
      ]
     },
     "metadata": {},
     "output_type": "display_data"
    },
    {
     "name": "stdout",
     "output_type": "stream",
     "text": [
      "Prof. Osamor Victor Chukwudi\n",
      "\n",
      "\n"
     ]
    },
    {
     "data": {
      "text/markdown": [
       "<b style='font-size: large'>Department of Architecture:</b>"
      ],
      "text/plain": [
       "<IPython.core.display.Markdown object>"
      ]
     },
     "metadata": {},
     "output_type": "display_data"
    },
    {
     "name": "stdout",
     "output_type": "stream",
     "text": [
      "Link: https://covenantuniversity.edu.ng/Colleges/CST/SNAS/Architecture:\n",
      "\n",
      "\n"
     ]
    },
    {
     "data": {
      "text/markdown": [
       "<b style='font-size: medium'>Programmes in Architecture:</b>"
      ],
      "text/plain": [
       "<IPython.core.display.Markdown object>"
      ]
     },
     "metadata": {},
     "output_type": "display_data"
    },
    {
     "name": "stdout",
     "output_type": "stream",
     "text": [
      "Architecture\n",
      "\n",
      "\n"
     ]
    },
    {
     "data": {
      "text/markdown": [
       "<b style='font-size: medium'>Featured Professor in Architecture:</b>"
      ],
      "text/plain": [
       "<IPython.core.display.Markdown object>"
      ]
     },
     "metadata": {},
     "output_type": "display_data"
    },
    {
     "name": "stdout",
     "output_type": "stream",
     "text": [
      "Dr. Oluwatayo Adedapo\n",
      "\n",
      "\n"
     ]
    },
    {
     "data": {
      "text/markdown": [
       "<b style='font-size: large'>Department of Estate Management:</b>"
      ],
      "text/plain": [
       "<IPython.core.display.Markdown object>"
      ]
     },
     "metadata": {},
     "output_type": "display_data"
    },
    {
     "name": "stdout",
     "output_type": "stream",
     "text": [
      "Link: https://covenantuniversity.edu.ng/Colleges/CST/SNAS/Estate-Management:\n",
      "\n",
      "\n"
     ]
    },
    {
     "data": {
      "text/markdown": [
       "<b style='font-size: medium'>Programmes in Estate Management:</b>"
      ],
      "text/plain": [
       "<IPython.core.display.Markdown object>"
      ]
     },
     "metadata": {},
     "output_type": "display_data"
    },
    {
     "name": "stdout",
     "output_type": "stream",
     "text": [
      "\n",
      "\t\t\t\t\t\tEstate Management\n",
      "\t\t\t\t\t\t\t\t\t\t\t\t\t\n",
      "\n",
      "\n",
      "\n"
     ]
    },
    {
     "data": {
      "text/markdown": [
       "<b style='font-size: medium'>Featured Professor in Estate Management:</b>"
      ],
      "text/plain": [
       "<IPython.core.display.Markdown object>"
      ]
     },
     "metadata": {},
     "output_type": "display_data"
    },
    {
     "name": "stdout",
     "output_type": "stream",
     "text": [
      "Dr. (Mrs.) Oluwunmi Adedamola Olufunke\n",
      "\n",
      "\n"
     ]
    },
    {
     "data": {
      "text/markdown": [
       "<b style='font-size: large'>Department of Biological Sciences:</b>"
      ],
      "text/plain": [
       "<IPython.core.display.Markdown object>"
      ]
     },
     "metadata": {},
     "output_type": "display_data"
    },
    {
     "name": "stdout",
     "output_type": "stream",
     "text": [
      "Link: https://covenantuniversity.edu.ng/Colleges/CST/SNAS/Biological-Sciences:\n",
      "\n",
      "\n"
     ]
    },
    {
     "data": {
      "text/markdown": [
       "<b style='font-size: medium'>Programmes in Biological Sciences:</b>"
      ],
      "text/plain": [
       "<IPython.core.display.Markdown object>"
      ]
     },
     "metadata": {},
     "output_type": "display_data"
    },
    {
     "name": "stdout",
     "output_type": "stream",
     "text": [
      "\n",
      "\t\t\t\t\t\tApplied Biology and Biotechnology\n",
      "\t\t\t\t\t\t\t\t\t\t\t\t\t\n",
      "\n",
      "\n",
      "\t\t\t\t\t\tAnimal and Environmental Biology\n",
      "\t\t\t\t\t\t\t\t\t\t\t\t\t\n",
      "\n",
      "\n",
      "\t\t\t\t\t\tMicrobiology\n",
      "\t\t\t\t\t\t\t\t\t\t\t\t\t\n",
      "\n",
      "\n",
      "\n"
     ]
    },
    {
     "data": {
      "text/markdown": [
       "<b style='font-size: medium'>Featured Professor in Biological Sciences:</b>"
      ],
      "text/plain": [
       "<IPython.core.display.Markdown object>"
      ]
     },
     "metadata": {},
     "output_type": "display_data"
    },
    {
     "name": "stdout",
     "output_type": "stream",
     "text": [
      "Dr. Olasehinde Grace\n",
      "\n",
      "\n"
     ]
    }
   ],
   "source": [
    "# Get name of College and link \n",
    "for ulink in range(len(col_link)-1):\n",
    "    url1 = (\"https://covenantuniversity.edu.ng%s\" %col_link[ulink])\n",
    "    result1 = requests.get(url1)\n",
    "    printmd(\"<b style='font-size: x-large'>{}</b>\".format(alink[ulink]))\n",
    "    print(\"Link: %s\" %url1)\n",
    "    print(\"\\n\")\n",
    "\n",
    "    # Get body content for each college\n",
    "    ps1 = BeautifulSoup(result1.text)\n",
    "    body1 = ps1.find(name=\"body\")\n",
    "    link = body1.find(\"ol\", {\"class\": \"\"})\n",
    "\n",
    "    # Check if any sub colleges/schools exists under the college\n",
    "    if link:\n",
    "        print(\"The College is composed of following schools:\")\n",
    "        print(link.text)\n",
    "    \n",
    "    # Get the name of the dean of each college\n",
    "    dean = body1.find(\"div\", {\"class\": \"office-view-main\"})\n",
    "    name_sob = dean.find(\"h3\")\n",
    "    attr_sob = dean.find(\"p\")\n",
    "    span = attr_sob.find(\"span\")\n",
    "    printmd(\"<b style='font-size: medium'>Dean of College:</b>\")\n",
    "    print(\"%s %s\" % (span.text, name_sob.text))\n",
    "    print(\"\\n\")\n",
    "    \n",
    "    # Get the depatments that exists in each college\n",
    "    col_bar = body1.findAll(\"ul\", {\"class\": \"college-bar-ul\"})\n",
    "    for link in range(len(col_bar)):\n",
    "        if col_bar[link].find(\"li\", {\"class\": \"school\"}):\n",
    "            col_bar = col_bar[link]\n",
    "            break\n",
    "            \n",
    "    dep_name = col_bar.findAll(\"a\")\n",
    "    printmd(\"<b style='font-size: large'>{}</b>\".format(dep_name[0].text))\n",
    "    print(\"\\n\")\n",
    "\n",
    "    \n",
    "    #Get the name and url of each department\n",
    "    col_blink = []\n",
    "    for a in dep_name:\n",
    "        col_blink.append(a['href'])\n",
    "    for link in range(1,len(col_blink)):\n",
    "        url_sob = (\"https://covenantuniversity.edu.ng%s\" %col_blink[link])\n",
    "        result2 = requests.get(url_sob)\n",
    "        \n",
    "        printmd(\"<b style='font-size: large'>Department of {}:</b>\".format(dep_name[link].text))\n",
    "        print(\"Link: %s:\" %url_sob)\n",
    "\n",
    "        # Lists programmes in each department \n",
    "        ps_sob = BeautifulSoup(result2.text)\n",
    "        body_sob = ps_sob.find(name=\"body\")\n",
    "        col_sob = body_sob.find(\"div\", {\"class\": \"office-view-main\"})\n",
    "        dep_sob = body_sob.findAll(\"div\", {\"class\": \"deparment-programmes\"})\n",
    "        \n",
    "        print(\"\\n\")\n",
    "        printmd(\"<b style='font-size: medium'>Programmes in {}:</b>\".format(dep_name[link].text))\n",
    "        \n",
    "        if len(dep_sob) > 1:\n",
    "            a_sob = dep_sob[1].findAll(name=\"a\")           \n",
    "            for i in range(len(a_sob)):\n",
    "                a_sob[i].i.extract()\n",
    "                print(a_sob[i].text)\n",
    "        else:\n",
    "            print(\"%s\" %dep_name[link].text)\n",
    "        print(\"\\n\")\n",
    "    \n",
    "        # Print out the featured professor for the department\n",
    "        if col_sob:\n",
    "            printmd(\"<b style='font-size: medium'>Featured Professor in {}:</b>\".format(dep_name[link].text))     \n",
    "            name_sob = col_sob.find(\"h3\")\n",
    "            #print(name_sob.text)\n",
    "            attr_sob = col_sob.find(\"p\")\n",
    "            span = attr_sob.find(\"span\")\n",
    "            print(\"%s %s\" %(span.text, name_sob.text))\n",
    "            print(\"\\n\")"
   ]
  },
  {
   "cell_type": "code",
   "execution_count": null,
   "metadata": {},
   "outputs": [],
   "source": []
  }
 ],
 "metadata": {
  "kernelspec": {
   "display_name": "Python 3",
   "language": "python",
   "name": "python3"
  },
  "language_info": {
   "codemirror_mode": {
    "name": "ipython",
    "version": 3
   },
   "file_extension": ".py",
   "mimetype": "text/x-python",
   "name": "python",
   "nbconvert_exporter": "python",
   "pygments_lexer": "ipython3",
   "version": "3.6.6"
  }
 },
 "nbformat": 4,
 "nbformat_minor": 2
}
