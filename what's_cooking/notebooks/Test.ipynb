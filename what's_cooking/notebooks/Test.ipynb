{
 "cells": [
  {
   "cell_type": "code",
   "execution_count": 74,
   "metadata": {},
   "outputs": [],
   "source": [
    "import re\n",
    "import matplotlib\n",
    "import numpy as np\n",
    "import matplotlib.pyplot as plt\n",
    "import pandas as pd\n",
    "from nltk.stem import WordNetLemmatizer\n",
    "from sklearn.model_selection import train_test_split\n",
    "from sklearn.feature_extraction.text import TfidfVectorizer\n",
    "from sklearn.feature_extraction.text import CountVectorizer\n",
    "from sklearn.metrics import accuracy_score, f1_score, precision_score, recall_score, classification_report, confusion_matrix, hamming_loss\n",
    "from sklearn.multiclass import OneVsRestClassifier\n",
    "from sklearn.multiclass import OneVsOneClassifier\n",
    "from sklearn.svm import LinearSVC\n",
    "from sklearn.pipeline import Pipeline\n",
    "from sklearn import preprocessing\n",
    "from sklearn.feature_extraction.text import HashingVectorizer\n",
    "from sklearn.feature_extraction.text import TfidfTransformer"
   ]
  },
  {
   "cell_type": "code",
   "execution_count": 75,
   "metadata": {},
   "outputs": [],
   "source": [
    "# Load train data\n",
    "df = pd.read_json('../data/raw/train.json')\n",
    "\n",
    "# Load test data\n",
    "df_t = pd.read_json('../data/raw/test.json')"
   ]
  },
  {
   "cell_type": "code",
   "execution_count": 76,
   "metadata": {},
   "outputs": [
    {
     "data": {
      "text/plain": [
       "['romaine lettuce',\n",
       " 'black olives',\n",
       " 'grape tomatoes',\n",
       " 'garlic',\n",
       " 'pepper',\n",
       " 'purple onion',\n",
       " 'seasoning',\n",
       " 'garbanzo beans',\n",
       " 'feta cheese crumbles']"
      ]
     },
     "execution_count": 76,
     "metadata": {},
     "output_type": "execute_result"
    }
   ],
   "source": [
    "df['ingredients'][0]"
   ]
  },
  {
   "cell_type": "code",
   "execution_count": 77,
   "metadata": {},
   "outputs": [
    {
     "data": {
      "text/html": [
       "<div>\n",
       "<style scoped>\n",
       "    .dataframe tbody tr th:only-of-type {\n",
       "        vertical-align: middle;\n",
       "    }\n",
       "\n",
       "    .dataframe tbody tr th {\n",
       "        vertical-align: top;\n",
       "    }\n",
       "\n",
       "    .dataframe thead th {\n",
       "        text-align: right;\n",
       "    }\n",
       "</style>\n",
       "<table border=\"1\" class=\"dataframe\">\n",
       "  <thead>\n",
       "    <tr style=\"text-align: right;\">\n",
       "      <th></th>\n",
       "      <th>cuisine</th>\n",
       "      <th>id</th>\n",
       "      <th>ingredients</th>\n",
       "    </tr>\n",
       "  </thead>\n",
       "  <tbody>\n",
       "    <tr>\n",
       "      <th>0</th>\n",
       "      <td>greek</td>\n",
       "      <td>10259</td>\n",
       "      <td>romainelettuce blackolives grapetomatoes garli...</td>\n",
       "    </tr>\n",
       "    <tr>\n",
       "      <th>1</th>\n",
       "      <td>southern_us</td>\n",
       "      <td>25693</td>\n",
       "      <td>plainflour groundpepper salt tomato groundblac...</td>\n",
       "    </tr>\n",
       "    <tr>\n",
       "      <th>2</th>\n",
       "      <td>filipino</td>\n",
       "      <td>20130</td>\n",
       "      <td>egg pepper salt mayonaise cookingoil greenchil...</td>\n",
       "    </tr>\n",
       "    <tr>\n",
       "      <th>3</th>\n",
       "      <td>indian</td>\n",
       "      <td>22213</td>\n",
       "      <td>water vegetableoil wheat salt</td>\n",
       "    </tr>\n",
       "    <tr>\n",
       "      <th>4</th>\n",
       "      <td>indian</td>\n",
       "      <td>13162</td>\n",
       "      <td>blackpepper shallot cornflour cayennepepper on...</td>\n",
       "    </tr>\n",
       "  </tbody>\n",
       "</table>\n",
       "</div>"
      ],
      "text/plain": [
       "       cuisine     id                                        ingredients\n",
       "0        greek  10259  romainelettuce blackolives grapetomatoes garli...\n",
       "1  southern_us  25693  plainflour groundpepper salt tomato groundblac...\n",
       "2     filipino  20130  egg pepper salt mayonaise cookingoil greenchil...\n",
       "3       indian  22213                      water vegetableoil wheat salt\n",
       "4       indian  13162  blackpepper shallot cornflour cayennepepper on..."
      ]
     },
     "execution_count": 77,
     "metadata": {},
     "output_type": "execute_result"
    }
   ],
   "source": [
    "#String each ilist of ingredient\n",
    "def ingre_strip(ingre):\n",
    "    for i in range(len(ingre)):\n",
    "        ingre[i] = ingre[i].replace(\" \", \"\")\n",
    "        ingre[i] = ingre[i].replace(\"-\", \"\")\n",
    "    strip_list = ' '.join(ingre)\n",
    "    strip_list = re.sub(r'\\d+', '', strip_list)\n",
    "    strip_list = strip_list.replace('%','')\n",
    "    strip_list = strip_list.split(' ')\n",
    "    strip_list = list(map(lambda word: WordNetLemmatizer().lemmatize(word.lower()),strip_list))\n",
    "    return ' '.join(strip_list)\n",
    "\n",
    "ingre_new = df['ingredients'].apply(ingre_strip)\n",
    "df['ingredients'] = ingre_new\n",
    "df.head()\n",
    "\n",
    "ingre_new = df_t['ingredients'].apply(ingre_strip)\n",
    "df_t['ingredients'] = ingre_new\n",
    "df_t.head()\n",
    "df.head()"
   ]
  },
  {
   "cell_type": "code",
   "execution_count": 78,
   "metadata": {},
   "outputs": [],
   "source": [
    "X = df\n",
    "y = df['cuisine']\n"
   ]
  },
  {
   "cell_type": "code",
   "execution_count": 79,
   "metadata": {},
   "outputs": [],
   "source": [
    "# train test split\n",
    "from sklearn.model_selection import train_test_split\n",
    "X_train, X_test, y_train, y_test = train_test_split(X, y, test_size=0.2, random_state=0)"
   ]
  },
  {
   "cell_type": "code",
   "execution_count": 80,
   "metadata": {},
   "outputs": [],
   "source": [
    "del X_test['cuisine']"
   ]
  },
  {
   "cell_type": "code",
   "execution_count": 81,
   "metadata": {},
   "outputs": [],
   "source": [
    "X_test = X_test['ingredients']"
   ]
  },
  {
   "cell_type": "code",
   "execution_count": 82,
   "metadata": {},
   "outputs": [
    {
     "data": {
      "text/plain": [
       "array(['greenchile pepper bonelesschickenbreast chilipowder reducedfatsourcream redbellpepper groundcumin whiteonion garlicpowder jalapenochilies tomatillo salt driedoregano chickenbroth whitecannellinibeans mexicancheeseblend flour dicedtomatoes enchiladasauce chorizosausage whitecorn freshcilantro flourtortillas parsley garlic oregano',\n",
       "       'parsleysprigs radish seasalt pozole chickenstock whiteonion tomatillo garliccloves canolaoil bonelessporkshoulder pork shreddedcabbage romainelettuceleaves driedoregano serranochilies lime epazote greenpumpkinseeds',\n",
       "       'honey garliccloves strongwhitebreadflour vegetableoil yoghurt yeast water salt',\n",
       "       ...,\n",
       "       'sesameseeds garlic cucumber sugar greenonions ricevinegar hardboiledegg buckwheatnoodles toastedsesameoil soysauce redpepper gochujangbase',\n",
       "       'chickenbroth pepper sesameoil frozenpeas soysauce bonelessskinlesschickenbreasts salt egg garlicpowder ginger whiteonion chilipowder cookedwhiterice',\n",
       "       'marinarasauce freshparsley largeeggs allpurposeflour eggplant vegetableoil gratedparmesancheese italianseasonedbreadcrumbs'],\n",
       "      dtype=object)"
      ]
     },
     "execution_count": 82,
     "metadata": {},
     "output_type": "execute_result"
    }
   ],
   "source": [
    "X_test = np.array(X_test)\n",
    "X_test"
   ]
  },
  {
   "cell_type": "code",
   "execution_count": 83,
   "metadata": {},
   "outputs": [
    {
     "data": {
      "text/plain": [
       "array(['mexican', 'mexican', 'indian', ..., 'korean', 'chinese',\n",
       "       'italian'], dtype=object)"
      ]
     },
     "execution_count": 83,
     "metadata": {},
     "output_type": "execute_result"
    }
   ],
   "source": [
    "y_test = np.array(y_test)\n",
    "y_test"
   ]
  },
  {
   "cell_type": "code",
   "execution_count": 84,
   "metadata": {},
   "outputs": [
    {
     "data": {
      "text/plain": [
       "array(['blackbeans russetpotatoes greenonions redenchiladasauce jalapenochilies frozencornkernels cheddarcheese vegetableoil',\n",
       "       'freshcilantro shallot garliccloves chickenbroth oliveoil salt groundturkey lime purpleonion freshmint lemongrass freshginger freshlygroundpepper asianfishsauce',\n",
       "       'baguette cucumber mayonaise salt choppedcilantrofresh pepper porkloinchops chilesauce purpleonion freshlimejuice',\n",
       "       ...,\n",
       "       'greenbellpepper broccoliflorets shrimp tomato sundriedtomatoes purpleonion driedoregano oliveoil garlic freshparsley freshbasil artichokehearts pennepasta',\n",
       "       'lowsodiumtomatopaste italianseasoning tomatosauce leangroundbeef oliveoil shreddedmozzarellacheese frozenchoppedspinach refrigeratedpizzadough',\n",
       "       'buttermilk allpurposeflour bacon frozenwholekernelcorn'],\n",
       "      dtype=object)"
      ]
     },
     "execution_count": 84,
     "metadata": {},
     "output_type": "execute_result"
    }
   ],
   "source": [
    "X_train = X_train[\"ingredients\"]\n",
    "X_train = np.array(X_train)\n",
    "X_train"
   ]
  },
  {
   "cell_type": "code",
   "execution_count": 85,
   "metadata": {
    "scrolled": true
   },
   "outputs": [
    {
     "data": {
      "text/plain": [
       "array(['mexican', 'vietnamese', 'vietnamese', ..., 'italian', 'italian',\n",
       "       'southern_us'], dtype=object)"
      ]
     },
     "execution_count": 85,
     "metadata": {},
     "output_type": "execute_result"
    }
   ],
   "source": [
    "y_train = np.array(y_train)\n",
    "y_train"
   ]
  },
  {
   "cell_type": "code",
   "execution_count": 89,
   "metadata": {},
   "outputs": [
    {
     "data": {
      "text/plain": [
       "array(['mexican', 'vietnamese', 'vietnamese', ..., 'italian', 'italian',\n",
       "       'southern_us'], dtype=object)"
      ]
     },
     "execution_count": 89,
     "metadata": {},
     "output_type": "execute_result"
    }
   ],
   "source": [
    "classifier = Pipeline([\n",
    "    ('vectorizer', HashingVectorizer()),\n",
    "    ('tfidf', TfidfTransformer()),\n",
    "    ('clf', OneVsOneClassifier(LinearSVC(C=500, class_weight=None, dual=True, fit_intercept=True,\n",
    "     intercept_scaling=1, loss='squared_hinge', max_iter=100000,\n",
    "     multi_class='ovr', penalty='l2', random_state=1, tol=1e-05, verbose=0)))])\n",
    "classifier.fit(X_train, y_train)\n",
    "predicted = classifier.predict(X_train)\n",
    "predicted"
   ]
  },
  {
   "cell_type": "code",
   "execution_count": 90,
   "metadata": {},
   "outputs": [
    {
     "name": "stdout",
     "output_type": "stream",
     "text": [
      "0.9946258524780791\n",
      "0.9946175943531963\n",
      "0.9946141921090098\n"
     ]
    }
   ],
   "source": [
    "print(accuracy_score(y_train, predicted))\n",
    "print(f1_score(y_train, predicted, average='weighted'))\n",
    "print(precision_score(y_train, predicted,average='weighted'))\n",
    "#print(classification_report(y_train, predicted))\n",
    "#print(confusion_matrix(y_train, predicted))"
   ]
  },
  {
   "cell_type": "code",
   "execution_count": 91,
   "metadata": {},
   "outputs": [
    {
     "data": {
      "text/plain": [
       "array(['mexican', 'mexican', 'indian', ..., 'korean', 'chinese',\n",
       "       'italian'], dtype=object)"
      ]
     },
     "execution_count": 91,
     "metadata": {},
     "output_type": "execute_result"
    }
   ],
   "source": [
    "classifier = Pipeline([\n",
    "    ('vectorizer', CountVectorizer()),\n",
    "    ('tfidf', TfidfTransformer()),\n",
    "    ('clf', OneVsOneClassifier(LinearSVC(C=500, class_weight=None, dual=True, fit_intercept=True,\n",
    "     intercept_scaling=1, loss='squared_hinge', max_iter=100000,\n",
    "     multi_class='ovr', penalty='l2', random_state=1, tol=1e-05, verbose=0)))])\n",
    "classifier.fit(X_train, y_train)\n",
    "predicted = classifier.predict(X_test)\n",
    "predicted"
   ]
  },
  {
   "cell_type": "code",
   "execution_count": 92,
   "metadata": {},
   "outputs": [
    {
     "name": "stdout",
     "output_type": "stream",
     "text": [
      "0.7367693274670019\n",
      "0.7343482762383352\n",
      "0.7346694614267667\n",
      "0.2632306725329981\n"
     ]
    }
   ],
   "source": [
    "print(accuracy_score(y_test, predicted))\n",
    "print(f1_score(y_test, predicted, average='weighted'))\n",
    "print(precision_score(y_test, predicted,average='weighted'))\n",
    "print(hamming_loss(y_test, predicted))"
   ]
  },
  {
   "cell_type": "code",
   "execution_count": 43,
   "metadata": {},
   "outputs": [
    {
     "data": {
      "text/plain": [
       "array(['mexican', 'mexican', 'indian', ..., 'korean', 'chinese',\n",
       "       'italian'], dtype=object)"
      ]
     },
     "execution_count": 43,
     "metadata": {},
     "output_type": "execute_result"
    }
   ],
   "source": [
    "predicted"
   ]
  },
  {
   "cell_type": "code",
   "execution_count": null,
   "metadata": {},
   "outputs": [],
   "source": []
  }
 ],
 "metadata": {
  "kernelspec": {
   "display_name": "Python 3",
   "language": "python",
   "name": "python3"
  },
  "language_info": {
   "codemirror_mode": {
    "name": "ipython",
    "version": 3
   },
   "file_extension": ".py",
   "mimetype": "text/x-python",
   "name": "python",
   "nbconvert_exporter": "python",
   "pygments_lexer": "ipython3",
   "version": "3.6.6"
  }
 },
 "nbformat": 4,
 "nbformat_minor": 2
}
